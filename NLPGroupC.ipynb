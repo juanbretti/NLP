{
  "nbformat": 4,
  "nbformat_minor": 0,
  "metadata": {
    "colab": {
      "name": "NLPGroupC.ipynb",
      "provenance": [],
      "collapsed_sections": []
    },
    "kernelspec": {
      "name": "python383jvsc74a57bd0b3ba2566441a7c06988d0923437866b63cedc61552a5af99d1f4fb67d367b25f",
      "display_name": "Python 3.8.3 64-bit ('base': conda)"
    },
    "language_info": {
      "codemirror_mode": {
        "name": "ipython",
        "version": 3
      },
      "file_extension": ".py",
      "mimetype": "text/x-python",
      "name": "python",
      "nbconvert_exporter": "python",
      "pygments_lexer": "ipython3",
      "version": "3.8.3"
    },
    "accelerator": "GPU"
  },
  "cells": [
    {
      "cell_type": "code",
      "metadata": {
        "colab": {
          "base_uri": "https://localhost:8080/"
        },
        "id": "eSOpp4onaz_4",
        "outputId": "a831df0f-ad9b-468e-c431-91482f782ce6"
      },
      "source": [
        "! pip install -r https://raw.githubusercontent.com/iniestaserranoalberto/NLP/main/requirements.txt"
      ],
      "execution_count": 1,
      "outputs": [
        {
          "output_type": "stream",
          "name": "stdout",
          "text": [
            "Collecting git+https://github.com/amaiya/eli5@tfkeras_0_10_1 (from -r https://raw.githubusercontent.com/iniestaserranoalberto/NLP/main/requirements.txt (line 12))\n",
            "  Cloning https://github.com/amaiya/eli5 (to revision tfkeras_0_10_1) to c:\\users\\juanb\\appdata\\local\\temp\\pip-req-build-7j9fcgqu\n",
            "Requirement already satisfied (use --upgrade to upgrade): eli5==0.10.1 from git+https://github.com/amaiya/eli5@tfkeras_0_10_1 in c:\\programdata\\anaconda3\\lib\\site-packages (from -r https://raw.githubusercontent.com/iniestaserranoalberto/NLP/main/requirements.txt (line 12))\n",
            "Collecting git+https://github.com/amaiya/stellargraph@no_tf_dep_082 (from -r https://raw.githubusercontent.com/iniestaserranoalberto/NLP/main/requirements.txt (line 13))\n",
            "  Cloning https://github.com/amaiya/stellargraph (to revision no_tf_dep_082) to c:\\users\\juanb\\appdata\\local\\temp\\pip-req-build-rvvefx6x\n",
            "  Running command git clone -q https://github.com/amaiya/eli5 'C:\\Users\\juanb\\AppData\\Local\\Temp\\pip-req-build-7j9fcgqu'\n",
            "  Running command git checkout -b tfkeras_0_10_1 --track origin/tfkeras_0_10_1\n",
            "  Branch 'tfkeras_0_10_1' set up to track remote branch 'tfkeras_0_10_1' from 'origin'.\n",
            "  Switched to a new branch 'tfkeras_0_10_1'\n",
            "  Running command git clone -q https://github.com/amaiya/stellargraph 'C:\\Users\\juanb\\AppData\\Local\\Temp\\pip-req-build-rvvefx6x'\n",
            "  Running command git checkout -b no_tf_dep_082 --track origin/no_tf_dep_082\n",
            "  Branch 'no_tf_dep_082' set up to track remote branch 'no_tf_dep_082' from 'origin'.\n",
            "  Switched to a new branch 'no_tf_dep_082'\n",
            "ERROR: Package 'stellargraph' requires a different Python: 3.8.3 not in '>=3.5.0, <3.8.0'\n"
          ]
        }
      ]
    },
    {
      "cell_type": "code",
      "metadata": {
        "colab": {
          "base_uri": "https://localhost:8080/",
          "height": 52
        },
        "id": "5RVuaj0Laor2",
        "outputId": "7ece832b-121a-4b11-ff60-15be8c2a94b7"
      },
      "source": [
        "from IPython.core.display import display, HTML\n",
        "\n",
        "display(HTML(\"<style>.container { width:100% !important; }</style>\")) # Increase cell width\n",
        "display(HTML(\"<style>.rendered_html { font-size: 16px; }</style>\")) # Increase font size\n",
        "\n",
        "# Matplotlib conf\n",
        "import matplotlib.pyplot as plt\n",
        "%matplotlib inline\n",
        "\n",
        "# Seaborn conf\n",
        "import seaborn as sns\n",
        "sns.set_palette(sns.color_palette(\"seismic\"))\n",
        "\n",
        "import sys\n",
        "\n",
        "import pandas as pd\n",
        "import numpy as np\n",
        "import operator\n",
        "import string\n",
        "import nltk\n",
        "import os\n",
        "\n",
        "import regex\n",
        "from nltk.corpus import stopwords \n",
        "from nltk.tokenize import WordPunctTokenizer\n",
        "from string import punctuation\n",
        "from nltk.stem import WordNetLemmatizer\n",
        "from nltk import wordnet\n",
        "\n",
        "nltk.download('stopwords')\n",
        "\n",
        "from collections import Counter\n",
        "\n",
        "from sklearn.datasets import fetch_20newsgroups\n",
        "\n",
        "from sklearn.model_selection import train_test_split, RandomizedSearchCV\n",
        "from sklearn.feature_extraction.text import CountVectorizer, TfidfTransformer, TfidfVectorizer\n",
        "\n",
        "from sklearn.metrics import classification_report, accuracy_score, confusion_matrix \n",
        "from sklearn.metrics import confusion_matrix\n",
        "\n",
        "from sklearn.naive_bayes import MultinomialNB\n",
        "from sklearn.tree import DecisionTreeClassifier\n",
        "from sklearn.neighbors import KNeighborsClassifier"
      ],
      "execution_count": 2,
      "outputs": [
        {
          "output_type": "display_data",
          "data": {
            "text/html": [
              "<style>.container { width:100% !important; }</style>"
            ],
            "text/plain": [
              "<IPython.core.display.HTML object>"
            ]
          },
          "metadata": {
            "tags": []
          }
        },
        {
          "output_type": "display_data",
          "data": {
            "text/html": [
              "<style>.rendered_html { font-size: 16px; }</style>"
            ],
            "text/plain": [
              "<IPython.core.display.HTML object>"
            ]
          },
          "metadata": {
            "tags": []
          }
        },
        {
          "output_type": "stream",
          "text": [
            "[nltk_data] Downloading package stopwords to /root/nltk_data...\n",
            "[nltk_data]   Unzipping corpora/stopwords.zip.\n"
          ],
          "name": "stdout"
        }
      ]
    },
    {
      "cell_type": "markdown",
      "metadata": {
        "id": "zwkz3L33aor3"
      },
      "source": [
        "# Import of 20news groups train dataset"
      ]
    },
    {
      "cell_type": "markdown",
      "metadata": {
        "id": "sQC7Lsy0BE4R"
      },
      "source": [
        "Import of 20news train dataset from sklearn.datasets. "
      ]
    },
    {
      "cell_type": "code",
      "metadata": {
        "id": "Xfw6Xvc2aor3",
        "colab": {
          "base_uri": "https://localhost:8080/"
        },
        "outputId": "d734de4b-80a9-4d49-f642-5bf6a40f56da"
      },
      "source": [
        "from sklearn.datasets import fetch_20newsgroups\n",
        "\n",
        "dataset = fetch_20newsgroups(subset='train',remove=('headers', 'footers', 'quotes'), shuffle=True, random_state=42)\n",
        "training_df = pd.DataFrame()\n",
        "training_df['Text'] = dataset.data\n",
        "training_df['source'] = dataset.target\n",
        "label=[]\n",
        "for i in training_df['source']:\n",
        "    label.append(dataset.target_names[i])\n",
        "training_df['Class']=label"
      ],
      "execution_count": 3,
      "outputs": [
        {
          "output_type": "stream",
          "text": [
            "Downloading 20news dataset. This may take a few minutes.\n",
            "Downloading dataset from https://ndownloader.figshare.com/files/5975967 (14 MB)\n"
          ],
          "name": "stderr"
        }
      ]
    },
    {
      "cell_type": "code",
      "metadata": {
        "colab": {
          "base_uri": "https://localhost:8080/",
          "height": 202
        },
        "id": "oG0ayL5Vaor3",
        "outputId": "67d78847-abce-496d-9d82-7073e2263e5b"
      },
      "source": [
        "training_df.head()"
      ],
      "execution_count": 4,
      "outputs": [
        {
          "output_type": "execute_result",
          "data": {
            "text/html": [
              "<div>\n",
              "<style scoped>\n",
              "    .dataframe tbody tr th:only-of-type {\n",
              "        vertical-align: middle;\n",
              "    }\n",
              "\n",
              "    .dataframe tbody tr th {\n",
              "        vertical-align: top;\n",
              "    }\n",
              "\n",
              "    .dataframe thead th {\n",
              "        text-align: right;\n",
              "    }\n",
              "</style>\n",
              "<table border=\"1\" class=\"dataframe\">\n",
              "  <thead>\n",
              "    <tr style=\"text-align: right;\">\n",
              "      <th></th>\n",
              "      <th>Text</th>\n",
              "      <th>source</th>\n",
              "      <th>Class</th>\n",
              "    </tr>\n",
              "  </thead>\n",
              "  <tbody>\n",
              "    <tr>\n",
              "      <th>0</th>\n",
              "      <td>I was wondering if anyone out there could enli...</td>\n",
              "      <td>7</td>\n",
              "      <td>rec.autos</td>\n",
              "    </tr>\n",
              "    <tr>\n",
              "      <th>1</th>\n",
              "      <td>A fair number of brave souls who upgraded thei...</td>\n",
              "      <td>4</td>\n",
              "      <td>comp.sys.mac.hardware</td>\n",
              "    </tr>\n",
              "    <tr>\n",
              "      <th>2</th>\n",
              "      <td>well folks, my mac plus finally gave up the gh...</td>\n",
              "      <td>4</td>\n",
              "      <td>comp.sys.mac.hardware</td>\n",
              "    </tr>\n",
              "    <tr>\n",
              "      <th>3</th>\n",
              "      <td>\\nDo you have Weitek's address/phone number?  ...</td>\n",
              "      <td>1</td>\n",
              "      <td>comp.graphics</td>\n",
              "    </tr>\n",
              "    <tr>\n",
              "      <th>4</th>\n",
              "      <td>From article &lt;C5owCB.n3p@world.std.com&gt;, by to...</td>\n",
              "      <td>14</td>\n",
              "      <td>sci.space</td>\n",
              "    </tr>\n",
              "  </tbody>\n",
              "</table>\n",
              "</div>"
            ],
            "text/plain": [
              "                                                Text  ...                  Class\n",
              "0  I was wondering if anyone out there could enli...  ...              rec.autos\n",
              "1  A fair number of brave souls who upgraded thei...  ...  comp.sys.mac.hardware\n",
              "2  well folks, my mac plus finally gave up the gh...  ...  comp.sys.mac.hardware\n",
              "3  \\nDo you have Weitek's address/phone number?  ...  ...          comp.graphics\n",
              "4  From article <C5owCB.n3p@world.std.com>, by to...  ...              sci.space\n",
              "\n",
              "[5 rows x 3 columns]"
            ]
          },
          "metadata": {
            "tags": []
          },
          "execution_count": 4
        }
      ]
    },
    {
      "cell_type": "code",
      "metadata": {
        "id": "aE_3SCODaor4"
      },
      "source": [
        "training_df.drop(['source'],axis=1,inplace=True)"
      ],
      "execution_count": 5,
      "outputs": []
    },
    {
      "cell_type": "markdown",
      "metadata": {
        "id": "gxc5kUA9BImu"
      },
      "source": [
        "There is a total of 20 categories in the train dataset."
      ]
    },
    {
      "cell_type": "code",
      "metadata": {
        "colab": {
          "base_uri": "https://localhost:8080/"
        },
        "id": "9LzV97dTaor5",
        "outputId": "723f4d88-6ef3-4d0a-a324-f3366bc07be3"
      },
      "source": [
        "training_df['Class'].value_counts()"
      ],
      "execution_count": 6,
      "outputs": [
        {
          "output_type": "execute_result",
          "data": {
            "text/plain": [
              "rec.sport.hockey            600\n",
              "soc.religion.christian      599\n",
              "rec.motorcycles             598\n",
              "rec.sport.baseball          597\n",
              "sci.crypt                   595\n",
              "rec.autos                   594\n",
              "sci.med                     594\n",
              "comp.windows.x              593\n",
              "sci.space                   593\n",
              "comp.os.ms-windows.misc     591\n",
              "sci.electronics             591\n",
              "comp.sys.ibm.pc.hardware    590\n",
              "misc.forsale                585\n",
              "comp.graphics               584\n",
              "comp.sys.mac.hardware       578\n",
              "talk.politics.mideast       564\n",
              "talk.politics.guns          546\n",
              "alt.atheism                 480\n",
              "talk.politics.misc          465\n",
              "talk.religion.misc          377\n",
              "Name: Class, dtype: int64"
            ]
          },
          "metadata": {
            "tags": []
          },
          "execution_count": 6
        }
      ]
    },
    {
      "cell_type": "markdown",
      "metadata": {
        "id": "0fNyqTmGBNML"
      },
      "source": [
        "In the next step some of the categories are combined together as simplification purposes."
      ]
    },
    {
      "cell_type": "code",
      "metadata": {
        "id": "HKrPtEDPaor5"
      },
      "source": [
        "training_df['Class'].replace({'talk.politics.misc':'politics','talk.politics.guns':'politics',\n",
        "                     'talk.politics.mideast':'politics'},inplace=True)\n",
        "                    \n",
        "# replace to sport\n",
        "training_df['Class'].replace({'rec.sport.hockey':'sport','rec.sport.baseball':'sport'},inplace=True)\n",
        "                    \n",
        "# replace to religion\n",
        "training_df['Class'].replace({'soc.religion.christian':'religion','talk.religion.misc':'religion','alt.atheism':'religion'},inplace=True)\n",
        "                    \n",
        "# replace to computer\n",
        "training_df['Class'].replace({'comp.windows.x':'computer','comp.sys.ibm.pc.hardware':'computer',\n",
        "                    'comp.os.ms-windows.misc':'computer','comp.graphics':'computer',\n",
        "                    'comp.sys.mac.hardware':'computer'},inplace=True)  \n",
        "# replace to sales\n",
        "training_df['Class'].replace({'misc.forsale':'sales'},inplace=True)\n",
        "\n",
        "# replace to automobile\n",
        "training_df['Class'].replace({'rec.autos':'automobile','rec.motorcycles':'automobile'},inplace=True)\n",
        "\n",
        "# replace to science\n",
        "training_df['Class'].replace({'sci.crypt':'science','sci.electronics':'science','sci.space':'science','sci.med':'medicine'},inplace=True)\n",
        "\n",
        "# replace to medicine\n",
        "training_df['Class'].replace({'sci.med':'medicine'},inplace=True)"
      ],
      "execution_count": 7,
      "outputs": []
    },
    {
      "cell_type": "code",
      "metadata": {
        "colab": {
          "base_uri": "https://localhost:8080/"
        },
        "id": "-IlQ208Caor5",
        "outputId": "44dc567e-5806-4eef-a2b1-02696bfea91f"
      },
      "source": [
        "training_df['Class'].nunique()"
      ],
      "execution_count": 8,
      "outputs": [
        {
          "output_type": "execute_result",
          "data": {
            "text/plain": [
              "8"
            ]
          },
          "metadata": {
            "tags": []
          },
          "execution_count": 8
        }
      ]
    },
    {
      "cell_type": "code",
      "metadata": {
        "colab": {
          "base_uri": "https://localhost:8080/"
        },
        "id": "0XI66tc-aor6",
        "outputId": "bd289b41-3356-4ee3-d22e-462d32ffd4d8"
      },
      "source": [
        "training_df['Class'].value_counts()"
      ],
      "execution_count": 9,
      "outputs": [
        {
          "output_type": "execute_result",
          "data": {
            "text/plain": [
              "computer      2936\n",
              "science       1779\n",
              "politics      1575\n",
              "religion      1456\n",
              "sport         1197\n",
              "automobile    1192\n",
              "medicine       594\n",
              "sales          585\n",
              "Name: Class, dtype: int64"
            ]
          },
          "metadata": {
            "tags": []
          },
          "execution_count": 9
        }
      ]
    },
    {
      "cell_type": "code",
      "metadata": {
        "id": "vyteV5l5aor7"
      },
      "source": [
        "training_df = training_df[training_df['Class'].isin(['religion', 'automobile', 'medicine','sport'] )]"
      ],
      "execution_count": 10,
      "outputs": []
    },
    {
      "cell_type": "code",
      "metadata": {
        "colab": {
          "base_uri": "https://localhost:8080/",
          "height": 202
        },
        "id": "eR16C_7Zaor8",
        "outputId": "d0ffb2e3-fbd3-4862-e8fe-f48611f221a8"
      },
      "source": [
        "training_df['words_count'] = training_df['Text'].apply(lambda x:len(str(x).split()))\n",
        "training_df.head()"
      ],
      "execution_count": 11,
      "outputs": [
        {
          "output_type": "execute_result",
          "data": {
            "text/html": [
              "<div>\n",
              "<style scoped>\n",
              "    .dataframe tbody tr th:only-of-type {\n",
              "        vertical-align: middle;\n",
              "    }\n",
              "\n",
              "    .dataframe tbody tr th {\n",
              "        vertical-align: top;\n",
              "    }\n",
              "\n",
              "    .dataframe thead th {\n",
              "        text-align: right;\n",
              "    }\n",
              "</style>\n",
              "<table border=\"1\" class=\"dataframe\">\n",
              "  <thead>\n",
              "    <tr style=\"text-align: right;\">\n",
              "      <th></th>\n",
              "      <th>Text</th>\n",
              "      <th>Class</th>\n",
              "      <th>words_count</th>\n",
              "    </tr>\n",
              "  </thead>\n",
              "  <tbody>\n",
              "    <tr>\n",
              "      <th>0</th>\n",
              "      <td>I was wondering if anyone out there could enli...</td>\n",
              "      <td>automobile</td>\n",
              "      <td>91</td>\n",
              "    </tr>\n",
              "    <tr>\n",
              "      <th>6</th>\n",
              "      <td>There were a few people who responded to my re...</td>\n",
              "      <td>medicine</td>\n",
              "      <td>63</td>\n",
              "    </tr>\n",
              "    <tr>\n",
              "      <th>10</th>\n",
              "      <td>I have a line on a Ducati 900GTS 1978 model wi...</td>\n",
              "      <td>automobile</td>\n",
              "      <td>108</td>\n",
              "    </tr>\n",
              "    <tr>\n",
              "      <th>11</th>\n",
              "      <td>\\nYep, that's pretty much it. I'm not a Jew bu...</td>\n",
              "      <td>religion</td>\n",
              "      <td>472</td>\n",
              "    </tr>\n",
              "    <tr>\n",
              "      <th>15</th>\n",
              "      <td>\\nDon't be so sure.  Look what happened to Jap...</td>\n",
              "      <td>religion</td>\n",
              "      <td>94</td>\n",
              "    </tr>\n",
              "  </tbody>\n",
              "</table>\n",
              "</div>"
            ],
            "text/plain": [
              "                                                 Text       Class  words_count\n",
              "0   I was wondering if anyone out there could enli...  automobile           91\n",
              "6   There were a few people who responded to my re...    medicine           63\n",
              "10  I have a line on a Ducati 900GTS 1978 model wi...  automobile          108\n",
              "11  \\nYep, that's pretty much it. I'm not a Jew bu...    religion          472\n",
              "15  \\nDon't be so sure.  Look what happened to Jap...    religion           94"
            ]
          },
          "metadata": {
            "tags": []
          },
          "execution_count": 11
        }
      ]
    },
    {
      "cell_type": "code",
      "metadata": {
        "colab": {
          "base_uri": "https://localhost:8080/"
        },
        "id": "_F4AToEgaor8",
        "outputId": "c5ac37c8-c66e-417d-d3b3-b69a0d1e0651"
      },
      "source": [
        "no_text = training_df[training_df['words_count']==0]\n",
        "print(len(no_text))"
      ],
      "execution_count": 12,
      "outputs": [
        {
          "output_type": "stream",
          "text": [
            "136\n"
          ],
          "name": "stdout"
        }
      ]
    },
    {
      "cell_type": "code",
      "metadata": {
        "colab": {
          "base_uri": "https://localhost:8080/"
        },
        "id": "Mi2B4PIpaor8",
        "outputId": "7bbeed07-77c7-4455-8879-9042e9908126"
      },
      "source": [
        "training_df.drop(no_text.index,inplace=True)\n",
        "print(len(no_text))"
      ],
      "execution_count": 13,
      "outputs": [
        {
          "output_type": "stream",
          "text": [
            "136\n"
          ],
          "name": "stdout"
        }
      ]
    },
    {
      "cell_type": "code",
      "metadata": {
        "colab": {
          "base_uri": "https://localhost:8080/"
        },
        "id": "t7NPjaPmeNOf",
        "outputId": "5fdb0a59-952a-4e77-8517-cf7f98444a0e"
      },
      "source": [
        "no_text = training_df[training_df['words_count']==0]\n",
        "print(len(no_text))"
      ],
      "execution_count": 14,
      "outputs": [
        {
          "output_type": "stream",
          "text": [
            "0\n"
          ],
          "name": "stdout"
        }
      ]
    },
    {
      "cell_type": "code",
      "metadata": {
        "colab": {
          "base_uri": "https://localhost:8080/",
          "height": 414
        },
        "id": "RKWLIebraor9",
        "outputId": "58ae46c4-d9fe-4eb0-9387-1e1596262c43"
      },
      "source": [
        "training_df"
      ],
      "execution_count": 15,
      "outputs": [
        {
          "output_type": "execute_result",
          "data": {
            "text/html": [
              "<div>\n",
              "<style scoped>\n",
              "    .dataframe tbody tr th:only-of-type {\n",
              "        vertical-align: middle;\n",
              "    }\n",
              "\n",
              "    .dataframe tbody tr th {\n",
              "        vertical-align: top;\n",
              "    }\n",
              "\n",
              "    .dataframe thead th {\n",
              "        text-align: right;\n",
              "    }\n",
              "</style>\n",
              "<table border=\"1\" class=\"dataframe\">\n",
              "  <thead>\n",
              "    <tr style=\"text-align: right;\">\n",
              "      <th></th>\n",
              "      <th>Text</th>\n",
              "      <th>Class</th>\n",
              "      <th>words_count</th>\n",
              "    </tr>\n",
              "  </thead>\n",
              "  <tbody>\n",
              "    <tr>\n",
              "      <th>0</th>\n",
              "      <td>I was wondering if anyone out there could enli...</td>\n",
              "      <td>automobile</td>\n",
              "      <td>91</td>\n",
              "    </tr>\n",
              "    <tr>\n",
              "      <th>6</th>\n",
              "      <td>There were a few people who responded to my re...</td>\n",
              "      <td>medicine</td>\n",
              "      <td>63</td>\n",
              "    </tr>\n",
              "    <tr>\n",
              "      <th>10</th>\n",
              "      <td>I have a line on a Ducati 900GTS 1978 model wi...</td>\n",
              "      <td>automobile</td>\n",
              "      <td>108</td>\n",
              "    </tr>\n",
              "    <tr>\n",
              "      <th>11</th>\n",
              "      <td>\\nYep, that's pretty much it. I'm not a Jew bu...</td>\n",
              "      <td>religion</td>\n",
              "      <td>472</td>\n",
              "    </tr>\n",
              "    <tr>\n",
              "      <th>15</th>\n",
              "      <td>\\nDon't be so sure.  Look what happened to Jap...</td>\n",
              "      <td>religion</td>\n",
              "      <td>94</td>\n",
              "    </tr>\n",
              "    <tr>\n",
              "      <th>...</th>\n",
              "      <td>...</td>\n",
              "      <td>...</td>\n",
              "      <td>...</td>\n",
              "    </tr>\n",
              "    <tr>\n",
              "      <th>11296</th>\n",
              "      <td>\\n\\n\\n\\n\\n   Anaheim.</td>\n",
              "      <td>sport</td>\n",
              "      <td>1</td>\n",
              "    </tr>\n",
              "    <tr>\n",
              "      <th>11298</th>\n",
              "      <td>After reading some of the reports of possible ...</td>\n",
              "      <td>sport</td>\n",
              "      <td>186</td>\n",
              "    </tr>\n",
              "    <tr>\n",
              "      <th>11300</th>\n",
              "      <td>\\nI am asking you to believe in things not vis...</td>\n",
              "      <td>religion</td>\n",
              "      <td>447</td>\n",
              "    </tr>\n",
              "    <tr>\n",
              "      <th>11309</th>\n",
              "      <td>DN&gt; From: nyeda@cnsvax.uwec.edu (David Nye)\\nD...</td>\n",
              "      <td>medicine</td>\n",
              "      <td>300</td>\n",
              "    </tr>\n",
              "    <tr>\n",
              "      <th>11313</th>\n",
              "      <td>Stolen from Pasadena between 4:30 and 6:30 pm ...</td>\n",
              "      <td>automobile</td>\n",
              "      <td>51</td>\n",
              "    </tr>\n",
              "  </tbody>\n",
              "</table>\n",
              "<p>4303 rows × 3 columns</p>\n",
              "</div>"
            ],
            "text/plain": [
              "                                                    Text  ... words_count\n",
              "0      I was wondering if anyone out there could enli...  ...          91\n",
              "6      There were a few people who responded to my re...  ...          63\n",
              "10     I have a line on a Ducati 900GTS 1978 model wi...  ...         108\n",
              "11     \\nYep, that's pretty much it. I'm not a Jew bu...  ...         472\n",
              "15     \\nDon't be so sure.  Look what happened to Jap...  ...          94\n",
              "...                                                  ...  ...         ...\n",
              "11296                              \\n\\n\\n\\n\\n   Anaheim.  ...           1\n",
              "11298  After reading some of the reports of possible ...  ...         186\n",
              "11300  \\nI am asking you to believe in things not vis...  ...         447\n",
              "11309  DN> From: nyeda@cnsvax.uwec.edu (David Nye)\\nD...  ...         300\n",
              "11313  Stolen from Pasadena between 4:30 and 6:30 pm ...  ...          51\n",
              "\n",
              "[4303 rows x 3 columns]"
            ]
          },
          "metadata": {
            "tags": []
          },
          "execution_count": 15
        }
      ]
    },
    {
      "cell_type": "markdown",
      "metadata": {
        "id": "EQiZ1xMNaor9"
      },
      "source": [
        "# Import of 20news groups test dataset"
      ]
    },
    {
      "cell_type": "markdown",
      "metadata": {
        "id": "lU1-XrzmA8iT"
      },
      "source": [
        "Import of 20news test dataset from sklearn.datasets. "
      ]
    },
    {
      "cell_type": "code",
      "metadata": {
        "id": "-saSp7SMaor9"
      },
      "source": [
        "from sklearn.datasets import fetch_20newsgroups\n",
        "\n",
        "dataset = fetch_20newsgroups(subset='test',remove=('headers', 'footers', 'quotes'), shuffle=True, random_state=42)\n",
        "test_df = pd.DataFrame()\n",
        "test_df['Text'] = dataset.data\n",
        "test_df['source'] = dataset.target\n",
        "label=[]\n",
        "for i in test_df['source']:\n",
        "    label.append(dataset.target_names[i])\n",
        "test_df['Class']=label"
      ],
      "execution_count": 16,
      "outputs": []
    },
    {
      "cell_type": "code",
      "metadata": {
        "colab": {
          "base_uri": "https://localhost:8080/",
          "height": 202
        },
        "id": "X_VlWP7Eaor9",
        "outputId": "86394e75-2e0f-48e3-aff5-2beaa69b0899"
      },
      "source": [
        "test_df.head()"
      ],
      "execution_count": 17,
      "outputs": [
        {
          "output_type": "execute_result",
          "data": {
            "text/html": [
              "<div>\n",
              "<style scoped>\n",
              "    .dataframe tbody tr th:only-of-type {\n",
              "        vertical-align: middle;\n",
              "    }\n",
              "\n",
              "    .dataframe tbody tr th {\n",
              "        vertical-align: top;\n",
              "    }\n",
              "\n",
              "    .dataframe thead th {\n",
              "        text-align: right;\n",
              "    }\n",
              "</style>\n",
              "<table border=\"1\" class=\"dataframe\">\n",
              "  <thead>\n",
              "    <tr style=\"text-align: right;\">\n",
              "      <th></th>\n",
              "      <th>Text</th>\n",
              "      <th>source</th>\n",
              "      <th>Class</th>\n",
              "    </tr>\n",
              "  </thead>\n",
              "  <tbody>\n",
              "    <tr>\n",
              "      <th>0</th>\n",
              "      <td>I am a little confused on all of the models of...</td>\n",
              "      <td>7</td>\n",
              "      <td>rec.autos</td>\n",
              "    </tr>\n",
              "    <tr>\n",
              "      <th>1</th>\n",
              "      <td>I'm not familiar at all with the format of the...</td>\n",
              "      <td>5</td>\n",
              "      <td>comp.windows.x</td>\n",
              "    </tr>\n",
              "    <tr>\n",
              "      <th>2</th>\n",
              "      <td>\\nIn a word, yes.\\n</td>\n",
              "      <td>0</td>\n",
              "      <td>alt.atheism</td>\n",
              "    </tr>\n",
              "    <tr>\n",
              "      <th>3</th>\n",
              "      <td>\\nThey were attacking the Iraqis to drive them...</td>\n",
              "      <td>17</td>\n",
              "      <td>talk.politics.mideast</td>\n",
              "    </tr>\n",
              "    <tr>\n",
              "      <th>4</th>\n",
              "      <td>\\nI've just spent two solid months arguing tha...</td>\n",
              "      <td>19</td>\n",
              "      <td>talk.religion.misc</td>\n",
              "    </tr>\n",
              "  </tbody>\n",
              "</table>\n",
              "</div>"
            ],
            "text/plain": [
              "                                                Text  ...                  Class\n",
              "0  I am a little confused on all of the models of...  ...              rec.autos\n",
              "1  I'm not familiar at all with the format of the...  ...         comp.windows.x\n",
              "2                                \\nIn a word, yes.\\n  ...            alt.atheism\n",
              "3  \\nThey were attacking the Iraqis to drive them...  ...  talk.politics.mideast\n",
              "4  \\nI've just spent two solid months arguing tha...  ...     talk.religion.misc\n",
              "\n",
              "[5 rows x 3 columns]"
            ]
          },
          "metadata": {
            "tags": []
          },
          "execution_count": 17
        }
      ]
    },
    {
      "cell_type": "code",
      "metadata": {
        "id": "m7Fi89RAaor9"
      },
      "source": [
        "test_df.drop(['source'],axis=1,inplace=True)"
      ],
      "execution_count": 18,
      "outputs": []
    },
    {
      "cell_type": "markdown",
      "metadata": {
        "id": "NgIABIuKBXQp"
      },
      "source": [
        "There is a total of 20 categories in the train dataset."
      ]
    },
    {
      "cell_type": "code",
      "metadata": {
        "colab": {
          "base_uri": "https://localhost:8080/"
        },
        "id": "GAb9sFbLaor-",
        "outputId": "8c1059a6-21f3-4452-ece7-07ea4ca551ff"
      },
      "source": [
        "test_df['Class'].value_counts()"
      ],
      "execution_count": 19,
      "outputs": [
        {
          "output_type": "execute_result",
          "data": {
            "text/plain": [
              "rec.sport.hockey            399\n",
              "rec.motorcycles             398\n",
              "soc.religion.christian      398\n",
              "rec.sport.baseball          397\n",
              "sci.med                     396\n",
              "rec.autos                   396\n",
              "sci.crypt                   396\n",
              "comp.windows.x              395\n",
              "comp.os.ms-windows.misc     394\n",
              "sci.space                   394\n",
              "sci.electronics             393\n",
              "comp.sys.ibm.pc.hardware    392\n",
              "misc.forsale                390\n",
              "comp.graphics               389\n",
              "comp.sys.mac.hardware       385\n",
              "talk.politics.mideast       376\n",
              "talk.politics.guns          364\n",
              "alt.atheism                 319\n",
              "talk.politics.misc          310\n",
              "talk.religion.misc          251\n",
              "Name: Class, dtype: int64"
            ]
          },
          "metadata": {
            "tags": []
          },
          "execution_count": 19
        }
      ]
    },
    {
      "cell_type": "markdown",
      "metadata": {
        "id": "G-Kw-pxRBaYE"
      },
      "source": [
        "In the next step some of the categories are combined together as simplification purposes."
      ]
    },
    {
      "cell_type": "code",
      "metadata": {
        "id": "7Io-VgaQaor-"
      },
      "source": [
        "test_df['Class'].replace({'talk.politics.misc':'politics','talk.politics.guns':'politics',\n",
        "                     'talk.politics.mideast':'politics'},inplace=True)\n",
        "                    \n",
        "# replace to sport\n",
        "test_df['Class'].replace({'rec.sport.hockey':'sport','rec.sport.baseball':'sport'},inplace=True)\n",
        "                    \n",
        "# replace to religion\n",
        "test_df['Class'].replace({'soc.religion.christian':'religion','talk.religion.misc':'religion','alt.atheism':'religion'},inplace=True)\n",
        "                    \n",
        "# replace to computer\n",
        "test_df['Class'].replace({'comp.windows.x':'computer','comp.sys.ibm.pc.hardware':'computer',\n",
        "                    'comp.os.ms-windows.misc':'computer','comp.graphics':'computer',\n",
        "                    'comp.sys.mac.hardware':'computer'},inplace=True)  \n",
        "# replace to sales\n",
        "test_df['Class'].replace({'misc.forsale':'sales'},inplace=True)\n",
        "\n",
        "# replace to automobile\n",
        "test_df['Class'].replace({'rec.autos':'automobile','rec.motorcycles':'automobile'},inplace=True)\n",
        "\n",
        "# replace to science\n",
        "test_df['Class'].replace({'sci.crypt':'science','sci.electronics':'science','sci.space':'science'},inplace=True)\n",
        "\n",
        "# replace to medicine\n",
        "test_df['Class'].replace({'sci.med':'medicine'},inplace=True)"
      ],
      "execution_count": 20,
      "outputs": []
    },
    {
      "cell_type": "code",
      "metadata": {
        "colab": {
          "base_uri": "https://localhost:8080/"
        },
        "id": "eiaq3l8Jaor-",
        "outputId": "b301c4c6-ae80-418d-ff20-1e82c4847f54"
      },
      "source": [
        "test_df['Class'].nunique()"
      ],
      "execution_count": 21,
      "outputs": [
        {
          "output_type": "execute_result",
          "data": {
            "text/plain": [
              "8"
            ]
          },
          "metadata": {
            "tags": []
          },
          "execution_count": 21
        }
      ]
    },
    {
      "cell_type": "code",
      "metadata": {
        "colab": {
          "base_uri": "https://localhost:8080/"
        },
        "id": "jhYGnfGHaor_",
        "outputId": "95bf6a1a-278f-441e-a162-2b09ac4fa165"
      },
      "source": [
        "test_df['Class'].value_counts()"
      ],
      "execution_count": 22,
      "outputs": [
        {
          "output_type": "execute_result",
          "data": {
            "text/plain": [
              "computer      1955\n",
              "science       1183\n",
              "politics      1050\n",
              "religion       968\n",
              "sport          796\n",
              "automobile     794\n",
              "medicine       396\n",
              "sales          390\n",
              "Name: Class, dtype: int64"
            ]
          },
          "metadata": {
            "tags": []
          },
          "execution_count": 22
        }
      ]
    },
    {
      "cell_type": "code",
      "metadata": {
        "id": "Qxs0kA74aor_"
      },
      "source": [
        "test_df = test_df[test_df['Class'].isin(['religion', 'automobile', 'medicine','sport'] )]"
      ],
      "execution_count": 23,
      "outputs": []
    },
    {
      "cell_type": "code",
      "metadata": {
        "colab": {
          "base_uri": "https://localhost:8080/",
          "height": 202
        },
        "id": "FfSSsh36aor_",
        "outputId": "57c704d1-ed84-4c34-9c5e-68f15cfe4edc"
      },
      "source": [
        "test_df['words_count'] =test_df['Text'].apply(lambda x:len(str(x).split()))\n",
        "test_df.head()"
      ],
      "execution_count": 24,
      "outputs": [
        {
          "output_type": "execute_result",
          "data": {
            "text/html": [
              "<div>\n",
              "<style scoped>\n",
              "    .dataframe tbody tr th:only-of-type {\n",
              "        vertical-align: middle;\n",
              "    }\n",
              "\n",
              "    .dataframe tbody tr th {\n",
              "        vertical-align: top;\n",
              "    }\n",
              "\n",
              "    .dataframe thead th {\n",
              "        text-align: right;\n",
              "    }\n",
              "</style>\n",
              "<table border=\"1\" class=\"dataframe\">\n",
              "  <thead>\n",
              "    <tr style=\"text-align: right;\">\n",
              "      <th></th>\n",
              "      <th>Text</th>\n",
              "      <th>Class</th>\n",
              "      <th>words_count</th>\n",
              "    </tr>\n",
              "  </thead>\n",
              "  <tbody>\n",
              "    <tr>\n",
              "      <th>0</th>\n",
              "      <td>I am a little confused on all of the models of...</td>\n",
              "      <td>automobile</td>\n",
              "      <td>92</td>\n",
              "    </tr>\n",
              "    <tr>\n",
              "      <th>2</th>\n",
              "      <td>\\nIn a word, yes.\\n</td>\n",
              "      <td>religion</td>\n",
              "      <td>4</td>\n",
              "    </tr>\n",
              "    <tr>\n",
              "      <th>4</th>\n",
              "      <td>\\nI've just spent two solid months arguing tha...</td>\n",
              "      <td>religion</td>\n",
              "      <td>17</td>\n",
              "    </tr>\n",
              "    <tr>\n",
              "      <th>5</th>\n",
              "      <td>\\nElisabeth, let's set the record straight for...</td>\n",
              "      <td>medicine</td>\n",
              "      <td>454</td>\n",
              "    </tr>\n",
              "    <tr>\n",
              "      <th>6</th>\n",
              "      <td>Dishonest money dwindles away, but he who gath...</td>\n",
              "      <td>religion</td>\n",
              "      <td>17</td>\n",
              "    </tr>\n",
              "  </tbody>\n",
              "</table>\n",
              "</div>"
            ],
            "text/plain": [
              "                                                Text       Class  words_count\n",
              "0  I am a little confused on all of the models of...  automobile           92\n",
              "2                                \\nIn a word, yes.\\n    religion            4\n",
              "4  \\nI've just spent two solid months arguing tha...    religion           17\n",
              "5  \\nElisabeth, let's set the record straight for...    medicine          454\n",
              "6  Dishonest money dwindles away, but he who gath...    religion           17"
            ]
          },
          "metadata": {
            "tags": []
          },
          "execution_count": 24
        }
      ]
    },
    {
      "cell_type": "code",
      "metadata": {
        "colab": {
          "base_uri": "https://localhost:8080/"
        },
        "id": "LzwFtgZCaor_",
        "outputId": "94892fe9-c186-4f1b-f84d-be0a2a5e7c5c"
      },
      "source": [
        "no_text = test_df[test_df['words_count']==0]\n",
        "print(len(no_text))"
      ],
      "execution_count": 25,
      "outputs": [
        {
          "output_type": "stream",
          "text": [
            "98\n"
          ],
          "name": "stdout"
        }
      ]
    },
    {
      "cell_type": "code",
      "metadata": {
        "colab": {
          "base_uri": "https://localhost:8080/"
        },
        "id": "ziumxVLYaor_",
        "outputId": "b037963b-a7f5-4b8a-f104-7975973c9fe6"
      },
      "source": [
        "test_df.drop(no_text.index,inplace=True)\n",
        "print(len(no_text))"
      ],
      "execution_count": 26,
      "outputs": [
        {
          "output_type": "stream",
          "text": [
            "98\n"
          ],
          "name": "stdout"
        }
      ]
    },
    {
      "cell_type": "code",
      "metadata": {
        "colab": {
          "base_uri": "https://localhost:8080/"
        },
        "id": "QZwwTpcqeYJW",
        "outputId": "9e36f5ee-4265-4532-bb2f-95a1ae0a151e"
      },
      "source": [
        "no_text = training_df[training_df['words_count']==0]\n",
        "print(len(no_text))"
      ],
      "execution_count": 27,
      "outputs": [
        {
          "output_type": "stream",
          "text": [
            "0\n"
          ],
          "name": "stdout"
        }
      ]
    },
    {
      "cell_type": "code",
      "metadata": {
        "colab": {
          "base_uri": "https://localhost:8080/",
          "height": 414
        },
        "id": "RrIDcAU2aor_",
        "outputId": "a88cf79f-6703-4e92-d032-ec69e214eb9b"
      },
      "source": [
        "test_df"
      ],
      "execution_count": 28,
      "outputs": [
        {
          "output_type": "execute_result",
          "data": {
            "text/html": [
              "<div>\n",
              "<style scoped>\n",
              "    .dataframe tbody tr th:only-of-type {\n",
              "        vertical-align: middle;\n",
              "    }\n",
              "\n",
              "    .dataframe tbody tr th {\n",
              "        vertical-align: top;\n",
              "    }\n",
              "\n",
              "    .dataframe thead th {\n",
              "        text-align: right;\n",
              "    }\n",
              "</style>\n",
              "<table border=\"1\" class=\"dataframe\">\n",
              "  <thead>\n",
              "    <tr style=\"text-align: right;\">\n",
              "      <th></th>\n",
              "      <th>Text</th>\n",
              "      <th>Class</th>\n",
              "      <th>words_count</th>\n",
              "    </tr>\n",
              "  </thead>\n",
              "  <tbody>\n",
              "    <tr>\n",
              "      <th>0</th>\n",
              "      <td>I am a little confused on all of the models of...</td>\n",
              "      <td>automobile</td>\n",
              "      <td>92</td>\n",
              "    </tr>\n",
              "    <tr>\n",
              "      <th>2</th>\n",
              "      <td>\\nIn a word, yes.\\n</td>\n",
              "      <td>religion</td>\n",
              "      <td>4</td>\n",
              "    </tr>\n",
              "    <tr>\n",
              "      <th>4</th>\n",
              "      <td>\\nI've just spent two solid months arguing tha...</td>\n",
              "      <td>religion</td>\n",
              "      <td>17</td>\n",
              "    </tr>\n",
              "    <tr>\n",
              "      <th>5</th>\n",
              "      <td>\\nElisabeth, let's set the record straight for...</td>\n",
              "      <td>medicine</td>\n",
              "      <td>454</td>\n",
              "    </tr>\n",
              "    <tr>\n",
              "      <th>6</th>\n",
              "      <td>Dishonest money dwindles away, but he who gath...</td>\n",
              "      <td>religion</td>\n",
              "      <td>17</td>\n",
              "    </tr>\n",
              "    <tr>\n",
              "      <th>...</th>\n",
              "      <td>...</td>\n",
              "      <td>...</td>\n",
              "      <td>...</td>\n",
              "    </tr>\n",
              "    <tr>\n",
              "      <th>7520</th>\n",
              "      <td>First off, if I'm not mistaken, only hibernati...</td>\n",
              "      <td>medicine</td>\n",
              "      <td>95</td>\n",
              "    </tr>\n",
              "    <tr>\n",
              "      <th>7522</th>\n",
              "      <td>: \\n: &gt;move a little, the pain will be excruti...</td>\n",
              "      <td>medicine</td>\n",
              "      <td>171</td>\n",
              "    </tr>\n",
              "    <tr>\n",
              "      <th>7526</th>\n",
              "      <td>1954 MG-TF with frame-up restoration in early ...</td>\n",
              "      <td>automobile</td>\n",
              "      <td>215</td>\n",
              "    </tr>\n",
              "    <tr>\n",
              "      <th>7529</th>\n",
              "      <td>I sent a version of this post out a while ago,...</td>\n",
              "      <td>sport</td>\n",
              "      <td>125</td>\n",
              "    </tr>\n",
              "    <tr>\n",
              "      <th>7531</th>\n",
              "      <td>\\nFine, but one of the points of this entire d...</td>\n",
              "      <td>religion</td>\n",
              "      <td>67</td>\n",
              "    </tr>\n",
              "  </tbody>\n",
              "</table>\n",
              "<p>2856 rows × 3 columns</p>\n",
              "</div>"
            ],
            "text/plain": [
              "                                                   Text  ... words_count\n",
              "0     I am a little confused on all of the models of...  ...          92\n",
              "2                                   \\nIn a word, yes.\\n  ...           4\n",
              "4     \\nI've just spent two solid months arguing tha...  ...          17\n",
              "5     \\nElisabeth, let's set the record straight for...  ...         454\n",
              "6     Dishonest money dwindles away, but he who gath...  ...          17\n",
              "...                                                 ...  ...         ...\n",
              "7520  First off, if I'm not mistaken, only hibernati...  ...          95\n",
              "7522  : \\n: >move a little, the pain will be excruti...  ...         171\n",
              "7526  1954 MG-TF with frame-up restoration in early ...  ...         215\n",
              "7529  I sent a version of this post out a while ago,...  ...         125\n",
              "7531  \\nFine, but one of the points of this entire d...  ...          67\n",
              "\n",
              "[2856 rows x 3 columns]"
            ]
          },
          "metadata": {
            "tags": []
          },
          "execution_count": 28
        }
      ]
    },
    {
      "cell_type": "markdown",
      "metadata": {
        "id": "vL6fJdKOaosA"
      },
      "source": [
        "# Dataset Analysis"
      ]
    },
    {
      "cell_type": "code",
      "metadata": {
        "colab": {
          "base_uri": "https://localhost:8080/",
          "height": 202
        },
        "id": "FUbJsFBqaosA",
        "outputId": "edc4baff-df83-4752-ff4c-78a5edd9d3a5"
      },
      "source": [
        "training_df.columns = ['text', 'target','words_count']\n",
        "training_df.head()"
      ],
      "execution_count": 29,
      "outputs": [
        {
          "output_type": "execute_result",
          "data": {
            "text/html": [
              "<div>\n",
              "<style scoped>\n",
              "    .dataframe tbody tr th:only-of-type {\n",
              "        vertical-align: middle;\n",
              "    }\n",
              "\n",
              "    .dataframe tbody tr th {\n",
              "        vertical-align: top;\n",
              "    }\n",
              "\n",
              "    .dataframe thead th {\n",
              "        text-align: right;\n",
              "    }\n",
              "</style>\n",
              "<table border=\"1\" class=\"dataframe\">\n",
              "  <thead>\n",
              "    <tr style=\"text-align: right;\">\n",
              "      <th></th>\n",
              "      <th>text</th>\n",
              "      <th>target</th>\n",
              "      <th>words_count</th>\n",
              "    </tr>\n",
              "  </thead>\n",
              "  <tbody>\n",
              "    <tr>\n",
              "      <th>0</th>\n",
              "      <td>I was wondering if anyone out there could enli...</td>\n",
              "      <td>automobile</td>\n",
              "      <td>91</td>\n",
              "    </tr>\n",
              "    <tr>\n",
              "      <th>6</th>\n",
              "      <td>There were a few people who responded to my re...</td>\n",
              "      <td>medicine</td>\n",
              "      <td>63</td>\n",
              "    </tr>\n",
              "    <tr>\n",
              "      <th>10</th>\n",
              "      <td>I have a line on a Ducati 900GTS 1978 model wi...</td>\n",
              "      <td>automobile</td>\n",
              "      <td>108</td>\n",
              "    </tr>\n",
              "    <tr>\n",
              "      <th>11</th>\n",
              "      <td>\\nYep, that's pretty much it. I'm not a Jew bu...</td>\n",
              "      <td>religion</td>\n",
              "      <td>472</td>\n",
              "    </tr>\n",
              "    <tr>\n",
              "      <th>15</th>\n",
              "      <td>\\nDon't be so sure.  Look what happened to Jap...</td>\n",
              "      <td>religion</td>\n",
              "      <td>94</td>\n",
              "    </tr>\n",
              "  </tbody>\n",
              "</table>\n",
              "</div>"
            ],
            "text/plain": [
              "                                                 text      target  words_count\n",
              "0   I was wondering if anyone out there could enli...  automobile           91\n",
              "6   There were a few people who responded to my re...    medicine           63\n",
              "10  I have a line on a Ducati 900GTS 1978 model wi...  automobile          108\n",
              "11  \\nYep, that's pretty much it. I'm not a Jew bu...    religion          472\n",
              "15  \\nDon't be so sure.  Look what happened to Jap...    religion           94"
            ]
          },
          "metadata": {
            "tags": []
          },
          "execution_count": 29
        }
      ]
    },
    {
      "cell_type": "code",
      "metadata": {
        "colab": {
          "base_uri": "https://localhost:8080/",
          "height": 202
        },
        "id": "XnE0VI00aosA",
        "outputId": "d4880056-e5ca-4efb-c828-d8b551092350"
      },
      "source": [
        "test_df.columns = ['text', 'target','words_count']\n",
        "test_df.head()"
      ],
      "execution_count": 30,
      "outputs": [
        {
          "output_type": "execute_result",
          "data": {
            "text/html": [
              "<div>\n",
              "<style scoped>\n",
              "    .dataframe tbody tr th:only-of-type {\n",
              "        vertical-align: middle;\n",
              "    }\n",
              "\n",
              "    .dataframe tbody tr th {\n",
              "        vertical-align: top;\n",
              "    }\n",
              "\n",
              "    .dataframe thead th {\n",
              "        text-align: right;\n",
              "    }\n",
              "</style>\n",
              "<table border=\"1\" class=\"dataframe\">\n",
              "  <thead>\n",
              "    <tr style=\"text-align: right;\">\n",
              "      <th></th>\n",
              "      <th>text</th>\n",
              "      <th>target</th>\n",
              "      <th>words_count</th>\n",
              "    </tr>\n",
              "  </thead>\n",
              "  <tbody>\n",
              "    <tr>\n",
              "      <th>0</th>\n",
              "      <td>I am a little confused on all of the models of...</td>\n",
              "      <td>automobile</td>\n",
              "      <td>92</td>\n",
              "    </tr>\n",
              "    <tr>\n",
              "      <th>2</th>\n",
              "      <td>\\nIn a word, yes.\\n</td>\n",
              "      <td>religion</td>\n",
              "      <td>4</td>\n",
              "    </tr>\n",
              "    <tr>\n",
              "      <th>4</th>\n",
              "      <td>\\nI've just spent two solid months arguing tha...</td>\n",
              "      <td>religion</td>\n",
              "      <td>17</td>\n",
              "    </tr>\n",
              "    <tr>\n",
              "      <th>5</th>\n",
              "      <td>\\nElisabeth, let's set the record straight for...</td>\n",
              "      <td>medicine</td>\n",
              "      <td>454</td>\n",
              "    </tr>\n",
              "    <tr>\n",
              "      <th>6</th>\n",
              "      <td>Dishonest money dwindles away, but he who gath...</td>\n",
              "      <td>religion</td>\n",
              "      <td>17</td>\n",
              "    </tr>\n",
              "  </tbody>\n",
              "</table>\n",
              "</div>"
            ],
            "text/plain": [
              "                                                text      target  words_count\n",
              "0  I am a little confused on all of the models of...  automobile           92\n",
              "2                                \\nIn a word, yes.\\n    religion            4\n",
              "4  \\nI've just spent two solid months arguing tha...    religion           17\n",
              "5  \\nElisabeth, let's set the record straight for...    medicine          454\n",
              "6  Dishonest money dwindles away, but he who gath...    religion           17"
            ]
          },
          "metadata": {
            "tags": []
          },
          "execution_count": 30
        }
      ]
    },
    {
      "cell_type": "markdown",
      "metadata": {
        "id": "KsqPcvb8ApPr"
      },
      "source": [
        "Representation for both train and test count of records. "
      ]
    },
    {
      "cell_type": "code",
      "metadata": {
        "colab": {
          "base_uri": "https://localhost:8080/",
          "height": 324
        },
        "id": "R1yEjmO1aosA",
        "outputId": "cc2b4235-81df-4982-d442-fdf3c708f6e7"
      },
      "source": [
        "sns.countplot(x=training_df.target, order=[x for x, count in sorted(Counter(training_df.target).items(), key=lambda x: -x[1])], palette=\"seismic\")\n",
        "plt.xticks(rotation=90);"
      ],
      "execution_count": 31,
      "outputs": [
        {
          "output_type": "display_data",
          "data": {
            "image/png": "[encoded data removed]",
            "text/plain": [
              "<Figure size 432x288 with 1 Axes>"
            ]
          },
          "metadata": {
            "tags": [],
            "needs_background": "light"
          }
        }
      ]
    },
    {
      "cell_type": "code",
      "metadata": {
        "colab": {
          "base_uri": "https://localhost:8080/",
          "height": 324
        },
        "id": "5h_vhiE3aosB",
        "outputId": "28c124c2-31ac-4883-f7ce-45d7673f7583"
      },
      "source": [
        "sns.countplot(x=test_df.target, order=[x for x, count in sorted(Counter(training_df.target).items(), key=lambda x: -x[1])], palette=\"seismic\")\n",
        "plt.xticks(rotation=90);"
      ],
      "execution_count": 32,
      "outputs": [
        {
          "output_type": "display_data",
          "data": {
            "image/png": "[encoded data removed]",
            "text/plain": [
              "<Figure size 432x288 with 1 Axes>"
            ]
          },
          "metadata": {
            "tags": [],
            "needs_background": "light"
          }
        }
      ]
    },
    {
      "cell_type": "code",
      "metadata": {
        "id": "JLd7yj5AaosB"
      },
      "source": [
        "def plot_most_common_features(text_col, target_col, n_features=50):\n",
        "    from matplotlib import interactive\n",
        "\n",
        "    df = pd.DataFrame({\"text\": text_col, \"CLASS\": target_col})\n",
        "    grouped = df.groupby([\"CLASS\"]).apply(lambda x: x[\"text\"].sum())\n",
        "    grouped_df = pd.DataFrame({\"CLASS\": grouped.index, \"text\": grouped.values})\n",
        "\n",
        "    from nltk.tokenize import WhitespaceTokenizer\n",
        "    tokenizer = WhitespaceTokenizer()\n",
        "\n",
        "    for ii, text in enumerate(grouped_df.text):\n",
        "        pd.DataFrame(tokenizer.tokenize(text)).apply(pd.value_counts).head(n_features).plot(kind=\"bar\", cmap=plt.cm.seismic, figsize=(20,5))\n",
        "        plt.title(grouped_df.CLASS[ii], fontsize=20)\n",
        "        plt.xticks(fontsize=15)\n",
        "        plt.legend([])\n",
        "        interactive(True)\n",
        "        plt.show()"
      ],
      "execution_count": 33,
      "outputs": []
    },
    {
      "cell_type": "markdown",
      "metadata": {
        "id": "ivA6NZhSAXL0"
      },
      "source": [
        "First tokenization of text and visualization of words highest value count is quite poor."
      ]
    },
    {
      "cell_type": "code",
      "metadata": {
        "colab": {
          "base_uri": "https://localhost:8080/",
          "height": 1000
        },
        "id": "nUvOxSE1aosB",
        "outputId": "bbbff214-ec1b-45b6-9c50-244f809ad042"
      },
      "source": [
        "plot_most_common_features(training_df.text, training_df.target)"
      ],
      "execution_count": 34,
      "outputs": [
        {
          "output_type": "display_data",
          "data": {
            "image/png": "[encoded data removed]",
            "text/plain": [
              "<Figure size 1440x360 with 1 Axes>"
            ]
          },
          "metadata": {
            "tags": [],
            "needs_background": "light"
          }
        },
        {
          "output_type": "display_data",
          "data": {
            "image/png": "[encoded data removed]",
            "text/plain": [
              "<Figure size 1440x360 with 1 Axes>"
            ]
          },
          "metadata": {
            "tags": [],
            "needs_background": "light"
          }
        },
        {
          "output_type": "display_data",
          "data": {
            "image/png": "[encoded data removed]",
            "text/plain": [
              "<Figure size 1440x360 with 1 Axes>"
            ]
          },
          "metadata": {
            "tags": [],
            "needs_background": "light"
          }
        },
        {
          "output_type": "display_data",
          "data": {
            "image/png": "[encoded data removed]",
            "text/plain": [
              "<Figure size 1440x360 with 1 Axes>"
            ]
          },
          "metadata": {
            "tags": [],
            "needs_background": "light"
          }
        }
      ]
    },
    {
      "cell_type": "code",
      "metadata": {
        "id": "quimYScpaosB"
      },
      "source": [
        "dataset = pd.concat([training_df,test_df], sort=True)"
      ],
      "execution_count": 35,
      "outputs": []
    },
    {
      "cell_type": "code",
      "metadata": {
        "colab": {
          "base_uri": "https://localhost:8080/",
          "height": 414
        },
        "id": "9BcWvbwNaosB",
        "outputId": "176961cd-64ea-4c34-a349-ed2325fb5fc2"
      },
      "source": [
        "dataset"
      ],
      "execution_count": 36,
      "outputs": [
        {
          "output_type": "execute_result",
          "data": {
            "text/html": [
              "<div>\n",
              "<style scoped>\n",
              "    .dataframe tbody tr th:only-of-type {\n",
              "        vertical-align: middle;\n",
              "    }\n",
              "\n",
              "    .dataframe tbody tr th {\n",
              "        vertical-align: top;\n",
              "    }\n",
              "\n",
              "    .dataframe thead th {\n",
              "        text-align: right;\n",
              "    }\n",
              "</style>\n",
              "<table border=\"1\" class=\"dataframe\">\n",
              "  <thead>\n",
              "    <tr style=\"text-align: right;\">\n",
              "      <th></th>\n",
              "      <th>target</th>\n",
              "      <th>text</th>\n",
              "      <th>words_count</th>\n",
              "    </tr>\n",
              "  </thead>\n",
              "  <tbody>\n",
              "    <tr>\n",
              "      <th>0</th>\n",
              "      <td>automobile</td>\n",
              "      <td>I was wondering if anyone out there could enli...</td>\n",
              "      <td>91</td>\n",
              "    </tr>\n",
              "    <tr>\n",
              "      <th>6</th>\n",
              "      <td>medicine</td>\n",
              "      <td>There were a few people who responded to my re...</td>\n",
              "      <td>63</td>\n",
              "    </tr>\n",
              "    <tr>\n",
              "      <th>10</th>\n",
              "      <td>automobile</td>\n",
              "      <td>I have a line on a Ducati 900GTS 1978 model wi...</td>\n",
              "      <td>108</td>\n",
              "    </tr>\n",
              "    <tr>\n",
              "      <th>11</th>\n",
              "      <td>religion</td>\n",
              "      <td>\\nYep, that's pretty much it. I'm not a Jew bu...</td>\n",
              "      <td>472</td>\n",
              "    </tr>\n",
              "    <tr>\n",
              "      <th>15</th>\n",
              "      <td>religion</td>\n",
              "      <td>\\nDon't be so sure.  Look what happened to Jap...</td>\n",
              "      <td>94</td>\n",
              "    </tr>\n",
              "    <tr>\n",
              "      <th>...</th>\n",
              "      <td>...</td>\n",
              "      <td>...</td>\n",
              "      <td>...</td>\n",
              "    </tr>\n",
              "    <tr>\n",
              "      <th>7520</th>\n",
              "      <td>medicine</td>\n",
              "      <td>First off, if I'm not mistaken, only hibernati...</td>\n",
              "      <td>95</td>\n",
              "    </tr>\n",
              "    <tr>\n",
              "      <th>7522</th>\n",
              "      <td>medicine</td>\n",
              "      <td>: \\n: &gt;move a little, the pain will be excruti...</td>\n",
              "      <td>171</td>\n",
              "    </tr>\n",
              "    <tr>\n",
              "      <th>7526</th>\n",
              "      <td>automobile</td>\n",
              "      <td>1954 MG-TF with frame-up restoration in early ...</td>\n",
              "      <td>215</td>\n",
              "    </tr>\n",
              "    <tr>\n",
              "      <th>7529</th>\n",
              "      <td>sport</td>\n",
              "      <td>I sent a version of this post out a while ago,...</td>\n",
              "      <td>125</td>\n",
              "    </tr>\n",
              "    <tr>\n",
              "      <th>7531</th>\n",
              "      <td>religion</td>\n",
              "      <td>\\nFine, but one of the points of this entire d...</td>\n",
              "      <td>67</td>\n",
              "    </tr>\n",
              "  </tbody>\n",
              "</table>\n",
              "<p>7159 rows × 3 columns</p>\n",
              "</div>"
            ],
            "text/plain": [
              "          target  ... words_count\n",
              "0     automobile  ...          91\n",
              "6       medicine  ...          63\n",
              "10    automobile  ...         108\n",
              "11      religion  ...         472\n",
              "15      religion  ...          94\n",
              "...          ...  ...         ...\n",
              "7520    medicine  ...          95\n",
              "7522    medicine  ...         171\n",
              "7526  automobile  ...         215\n",
              "7529       sport  ...         125\n",
              "7531    religion  ...          67\n",
              "\n",
              "[7159 rows x 3 columns]"
            ]
          },
          "metadata": {
            "tags": []
          },
          "execution_count": 36
        }
      ]
    },
    {
      "cell_type": "markdown",
      "metadata": {
        "id": "ApjD_x8J_0O5"
      },
      "source": [
        "Removal of certain characters, stopwords and stemming."
      ]
    },
    {
      "cell_type": "code",
      "metadata": {
        "id": "pxEgg25faosB"
      },
      "source": [
        "from nltk.stem import *\n",
        "from nltk.corpus import stopwords\n",
        "\n",
        "import re\n",
        "\n",
        "def process_text(raw_text):\n",
        "\n",
        "    letters_only = re.sub(\"[^a-zA-Z]\", \" \",raw_text) \n",
        "    letters_only = letters_only.lower()\n",
        "    letters_only = re.sub('\\[.*?\\]', '', letters_only)\n",
        "    letters_only= re.sub('http?://\\S+|www\\.\\S+', '', letters_only)\n",
        "    letters_only = re.sub('<.*?>+', '', letters_only)\n",
        "    letters_only = re.sub('[%s]' % re.escape(string.punctuation), '', letters_only)\n",
        "    letters_only = re.sub('\\n', '', letters_only)\n",
        "    letters_only = re.sub('\\w*\\d\\w*', '', letters_only)\n",
        "    words = letters_only.lower().split()\n",
        "    \n",
        "    stops = set(stopwords.words(\"english\")) \n",
        "    not_stop_words = [w for w in words if not w in stops]\n",
        "    \n",
        "    stemmer = PorterStemmer()\n",
        "    stemmed = [stemmer.stem(word) for word in not_stop_words]\n",
        "    \n",
        "    return( \" \".join( stemmed ))  "
      ],
      "execution_count": 37,
      "outputs": []
    },
    {
      "cell_type": "code",
      "metadata": {
        "colab": {
          "base_uri": "https://localhost:8080/",
          "height": 202
        },
        "id": "TIUihCl9aosC",
        "outputId": "77f49b74-4378-4033-d369-ca023f0113fd"
      },
      "source": [
        "dataset['clean_text'] = dataset['text'].apply(lambda x: process_text(x))\n",
        "dataset.head()"
      ],
      "execution_count": 38,
      "outputs": [
        {
          "output_type": "execute_result",
          "data": {
            "text/html": [
              "<div>\n",
              "<style scoped>\n",
              "    .dataframe tbody tr th:only-of-type {\n",
              "        vertical-align: middle;\n",
              "    }\n",
              "\n",
              "    .dataframe tbody tr th {\n",
              "        vertical-align: top;\n",
              "    }\n",
              "\n",
              "    .dataframe thead th {\n",
              "        text-align: right;\n",
              "    }\n",
              "</style>\n",
              "<table border=\"1\" class=\"dataframe\">\n",
              "  <thead>\n",
              "    <tr style=\"text-align: right;\">\n",
              "      <th></th>\n",
              "      <th>target</th>\n",
              "      <th>text</th>\n",
              "      <th>words_count</th>\n",
              "      <th>clean_text</th>\n",
              "    </tr>\n",
              "  </thead>\n",
              "  <tbody>\n",
              "    <tr>\n",
              "      <th>0</th>\n",
              "      <td>automobile</td>\n",
              "      <td>I was wondering if anyone out there could enli...</td>\n",
              "      <td>91</td>\n",
              "      <td>wonder anyon could enlighten car saw day door ...</td>\n",
              "    </tr>\n",
              "    <tr>\n",
              "      <th>6</th>\n",
              "      <td>medicine</td>\n",
              "      <td>There were a few people who responded to my re...</td>\n",
              "      <td>63</td>\n",
              "      <td>peopl respond request info treatment astrocyto...</td>\n",
              "    </tr>\n",
              "    <tr>\n",
              "      <th>10</th>\n",
              "      <td>automobile</td>\n",
              "      <td>I have a line on a Ducati 900GTS 1978 model wi...</td>\n",
              "      <td>108</td>\n",
              "      <td>line ducati gt model k clock run well paint br...</td>\n",
              "    </tr>\n",
              "    <tr>\n",
              "      <th>11</th>\n",
              "      <td>religion</td>\n",
              "      <td>\\nYep, that's pretty much it. I'm not a Jew bu...</td>\n",
              "      <td>472</td>\n",
              "      <td>yep pretti much jew understand jewish way thin...</td>\n",
              "    </tr>\n",
              "    <tr>\n",
              "      <th>15</th>\n",
              "      <td>religion</td>\n",
              "      <td>\\nDon't be so sure.  Look what happened to Jap...</td>\n",
              "      <td>94</td>\n",
              "      <td>sure look happen japanes citizen us world war ...</td>\n",
              "    </tr>\n",
              "  </tbody>\n",
              "</table>\n",
              "</div>"
            ],
            "text/plain": [
              "        target  ...                                         clean_text\n",
              "0   automobile  ...  wonder anyon could enlighten car saw day door ...\n",
              "6     medicine  ...  peopl respond request info treatment astrocyto...\n",
              "10  automobile  ...  line ducati gt model k clock run well paint br...\n",
              "11    religion  ...  yep pretti much jew understand jewish way thin...\n",
              "15    religion  ...  sure look happen japanes citizen us world war ...\n",
              "\n",
              "[5 rows x 4 columns]"
            ]
          },
          "metadata": {
            "tags": []
          },
          "execution_count": 38
        }
      ]
    },
    {
      "cell_type": "code",
      "metadata": {
        "colab": {
          "base_uri": "https://localhost:8080/",
          "height": 1000
        },
        "id": "yN2J_-vUaosC",
        "outputId": "cea51f52-deba-4c8d-8bd4-7d6dd3aedb2d"
      },
      "source": [
        "plot_most_common_features(dataset.clean_text, dataset.target)"
      ],
      "execution_count": 39,
      "outputs": [
        {
          "output_type": "display_data",
          "data": {
            "image/png": "[encoded data removed]",
            "text/plain": [
              "<Figure size 1440x360 with 1 Axes>"
            ]
          },
          "metadata": {
            "tags": [],
            "needs_background": "light"
          }
        },
        {
          "output_type": "display_data",
          "data": {
            "image/png": "[encoded data removed]",
            "text/plain": [
              "<Figure size 1440x360 with 1 Axes>"
            ]
          },
          "metadata": {
            "tags": [],
            "needs_background": "light"
          }
        },
        {
          "output_type": "display_data",
          "data": {
            "image/png": "[encoded data removed]",
            "text/plain": [
              "<Figure size 1440x360 with 1 Axes>"
            ]
          },
          "metadata": {
            "tags": [],
            "needs_background": "light"
          }
        },
        {
          "output_type": "display_data",
          "data": {
            "image/png": "[encoded data removed]",
            "text/plain": [
              "<Figure size 1440x360 with 1 Axes>"
            ]
          },
          "metadata": {
            "tags": [],
            "needs_background": "light"
          }
        }
      ]
    },
    {
      "cell_type": "markdown",
      "metadata": {
        "id": "sFeePZHX_a-t"
      },
      "source": [
        "In the next function clean special characters, typos, slang, abbreviations, punctuations and special characters are removed."
      ]
    },
    {
      "cell_type": "code",
      "metadata": {
        "id": "iFrA6kBaaosC"
      },
      "source": [
        "def clean(email):            \n",
        "    # Special characters\n",
        "    email = re.sub(r\"\\x89Û_\", \"\", email)\n",
        "    email = re.sub(r\"\\x89ÛÒ\", \"\", email)\n",
        "    email = re.sub(r\"\\x89ÛÓ\", \"\", email)\n",
        "    email = re.sub(r\"\\x89ÛÏWhen\", \"When\", email)\n",
        "    email = re.sub(r\"\\x89ÛÏ\", \"\", email)\n",
        "    email = re.sub(r\"China\\x89Ûªs\", \"China's\", email)\n",
        "    email = re.sub(r\"let\\x89Ûªs\", \"let's\", email)\n",
        "    email = re.sub(r\"\\x89Û÷\", \"\", email)\n",
        "    email = re.sub(r\"\\x89Ûª\", \"\", email)\n",
        "    email = re.sub(r\"\\x89Û\\x9d\", \"\", email)\n",
        "    email = re.sub(r\"å_\", \"\", email)\n",
        "    email = re.sub(r\"\\x89Û¢\", \"\", email)\n",
        "    email = re.sub(r\"\\x89Û¢åÊ\", \"\", email)\n",
        "    email = re.sub(r\"fromåÊwounds\", \"from wounds\", email)\n",
        "    email = re.sub(r\"åÊ\", \"\", email)\n",
        "    email = re.sub(r\"åÈ\", \"\", email)\n",
        "    email = re.sub(r\"JapÌ_n\", \"Japan\", email)    \n",
        "    email = re.sub(r\"Ì©\", \"e\", email)\n",
        "    email = re.sub(r\"å¨\", \"\", email)\n",
        "    email = re.sub(r\"SuruÌ¤\", \"Suruc\", email)\n",
        "    email = re.sub(r\"åÇ\", \"\", email)\n",
        "    email = re.sub(r\"å£3million\", \"3 million\", email)\n",
        "    email = re.sub(r\"åÀ\", \"\", email)\n",
        "            \n",
        "    # Character entity references\n",
        "    email = re.sub(r\"&gt;\", \">\", email)\n",
        "    email = re.sub(r\"&lt;\", \"<\", email)\n",
        "    email = re.sub(r\"&amp;\", \"&\", email)\n",
        "    \n",
        "    # Typos, slang and informal abbreviations\n",
        "    email = re.sub(r\"w/e\", \"whatever\", email)\n",
        "    email = re.sub(r\"w/\", \"with\", email)\n",
        "    email = re.sub(r\"USAgov\", \"USA government\", email)\n",
        "    email = re.sub(r\"recentlu\", \"recently\", email)\n",
        "    email = re.sub(r\"Ph0tos\", \"Photos\", email)\n",
        "    email = re.sub(r\"amirite\", \"am I right\", email)\n",
        "    email = re.sub(r\"exp0sed\", \"exposed\", email)\n",
        "    email = re.sub(r\"<3\", \"love\", email)\n",
        "    email = re.sub(r\"amageddon\", \"armageddon\", email)\n",
        "    email = re.sub(r\"Trfc\", \"Traffic\", email)\n",
        "    email = re.sub(r\"8/5/2015\", \"2015-08-05\", email)\n",
        "    email = re.sub(r\"WindStorm\", \"Wind Storm\", email)\n",
        "    email = re.sub(r\"8/6/2015\", \"2015-08-06\", email)\n",
        "    email = re.sub(r\"10:38PM\", \"10:38 PM\", email)\n",
        "    email = re.sub(r\"10:30pm\", \"10:30 PM\", email)\n",
        "    email = re.sub(r\"16yr\", \"16 year\", email)\n",
        "    email = re.sub(r\"lmao\", \"laughing my ass off\", email)   \n",
        "    email = re.sub(r\"TRAUMATISED\", \"traumatized\", email)\n",
        "        \n",
        "    # Words with punctuations and special characters\n",
        "    punctuations = '@#!?+&*[]-%.:/();$=><|{}^' + \"'`\"\n",
        "    for p in punctuations:\n",
        "        email = email.replace(p, f' {p} ')\n",
        "        \n",
        "    return email"
      ],
      "execution_count": 40,
      "outputs": []
    },
    {
      "cell_type": "markdown",
      "metadata": {
        "id": "aTpOcANaACzp"
      },
      "source": [
        "In next function removes stopwords and performs stemming."
      ]
    },
    {
      "cell_type": "code",
      "metadata": {
        "id": "zuBHzgaU0Wep"
      },
      "source": [
        "def process_text_additional(raw_text):\n",
        " \n",
        "    raw_text = clean(raw_text)\n",
        "\n",
        "    letters_only = re.sub(\"[^a-zA-Z]\", \" \",raw_text) \n",
        "    letters_only = letters_only.lower()\n",
        "    letters_only = re.sub('\\[.*?\\]', '', letters_only)\n",
        "    letters_only= re.sub('http?://\\S+|www\\.\\S+', '', letters_only)\n",
        "    letters_only = re.sub('<.*?>+', '', letters_only)\n",
        "    letters_only = re.sub('[%s]' % re.escape(string.punctuation), '', letters_only)\n",
        "    letters_only = re.sub('\\n', '', letters_only)\n",
        "    letters_only = re.sub('\\w*\\d\\w*', '', letters_only)\n",
        "    words = letters_only.lower().split()\n",
        "    \n",
        "    stops = set(stopwords.words(\"english\"))  \n",
        "    not_stop_words = [w for w in words if not w in stops]\n",
        "    \n",
        "    stemmer = PorterStemmer()\n",
        "    stemmed = [stemmer.stem(word) for word in not_stop_words]\n",
        "    \n",
        "    return( \" \".join( stemmed ))"
      ],
      "execution_count": 41,
      "outputs": []
    },
    {
      "cell_type": "markdown",
      "metadata": {
        "id": "kgEXyrXG_N04"
      },
      "source": [
        "Additional processing of the data."
      ]
    },
    {
      "cell_type": "code",
      "metadata": {
        "colab": {
          "base_uri": "https://localhost:8080/",
          "height": 1000
        },
        "id": "LaO_j45aaosG",
        "outputId": "126b546b-1c4f-40c0-86c0-233fdc91b96d"
      },
      "source": [
        "dataset['clean_text'] = dataset['text'].apply(lambda x: process_text_additional(x))\n",
        "plot_most_common_features(dataset.clean_text, dataset.target)"
      ],
      "execution_count": 42,
      "outputs": [
        {
          "output_type": "display_data",
          "data": {
            "image/png": "[encoded data removed]",
            "text/plain": [
              "<Figure size 1440x360 with 1 Axes>"
            ]
          },
          "metadata": {
            "tags": [],
            "needs_background": "light"
          }
        },
        {
          "output_type": "display_data",
          "data": {
            "image/png": "[encoded data removed]",
            "text/plain": [
              "<Figure size 1440x360 with 1 Axes>"
            ]
          },
          "metadata": {
            "tags": [],
            "needs_background": "light"
          }
        },
        {
          "output_type": "display_data",
          "data": {
            "image/png": "[encoded data removed]",
            "text/plain": [
              "<Figure size 1440x360 with 1 Axes>"
            ]
          },
          "metadata": {
            "tags": [],
            "needs_background": "light"
          }
        },
        {
          "output_type": "display_data",
          "data": {
            "image/png": "[encoded data removed]",
            "text/plain": [
              "<Figure size 1440x360 with 1 Axes>"
            ]
          },
          "metadata": {
            "tags": [],
            "needs_background": "light"
          }
        }
      ]
    },
    {
      "cell_type": "markdown",
      "metadata": {
        "id": "LdqpL4cNR6eV"
      },
      "source": [
        "Encoding of the labels."
      ]
    },
    {
      "cell_type": "code",
      "metadata": {
        "id": "2v03klcD_tse"
      },
      "source": [
        "# Hot encoding for the labels for train and test sets together\n",
        "from sklearn import preprocessing\n",
        "le = preprocessing.LabelEncoder()\n",
        "le.fit(dataset.target.values)\n",
        "target_labels = le.classes_\n",
        "dataset.target = le.transform(dataset.target.values)"
      ],
      "execution_count": null,
      "outputs": []
    },
    {
      "cell_type": "markdown",
      "metadata": {
        "id": "r0y4-BotR-p3"
      },
      "source": [
        "Split of train and test sets to avoid any data leakage."
      ]
    },
    {
      "cell_type": "code",
      "metadata": {
        "id": "xlvJE5jbaosG"
      },
      "source": [
        "X_train = dataset[0:len(training_df)][[\"clean_text\"]]\n",
        "y_train = dataset[0:len(training_df)][[\"target\"]]"
      ],
      "execution_count": null,
      "outputs": []
    },
    {
      "cell_type": "code",
      "metadata": {
        "id": "2VCVTZ0NaosH"
      },
      "source": [
        "X_test = dataset[len(training_df):len(dataset)][[\"clean_text\"]]\n",
        "y_test = dataset[len(training_df):len(dataset)][[\"target\"]]"
      ],
      "execution_count": null,
      "outputs": []
    },
    {
      "cell_type": "markdown",
      "metadata": {
        "id": "IKhxPyavaosH"
      },
      "source": [
        "# Machine Learning Models"
      ]
    },
    {
      "cell_type": "markdown",
      "metadata": {
        "id": "-9AZvVtOR0U9"
      },
      "source": [
        "Correct management of train and test sets for tfidf application.\n",
        "\n",
        "---\n",
        "\n"
      ]
    },
    {
      "cell_type": "code",
      "metadata": {
        "id": "-_-BDrG7aosI"
      },
      "source": [
        "count_vect = CountVectorizer(analyzer = \"word\")\n",
        "train_features = count_vect.fit_transform(X_train['clean_text'])\n",
        "\n",
        "tfidf = TfidfTransformer(norm=\"l2\")\n",
        "train_text_tfidf_features = tfidf.fit_transform(train_features)"
      ],
      "execution_count": null,
      "outputs": []
    },
    {
      "cell_type": "code",
      "metadata": {
        "id": "SLYJuEMqNwnz"
      },
      "source": [
        "testData = count_vect.transform(X_test['clean_text'])\n",
        "test_text_tfidf_features = tfidf.transform(testData)"
      ],
      "execution_count": null,
      "outputs": []
    },
    {
      "cell_type": "markdown",
      "metadata": {
        "id": "_xd8ZT9BSIwQ"
      },
      "source": [
        "Grid search function to retrieve the best hyperparameters."
      ]
    },
    {
      "cell_type": "code",
      "metadata": {
        "id": "T1HnefZSaosI"
      },
      "source": [
        "def train_and_evaluate_classifier(X, yt, estimator, grid):\n",
        "    \"\"\"Train and Evaluate a estimator (defined as input parameter) on the given labeled data using accuracy.\"\"\"\n",
        "    \n",
        "    # Cross validation\n",
        "    from sklearn.model_selection import ShuffleSplit\n",
        "    cv = ShuffleSplit(n_splits=5, test_size=0.2, random_state=0)\n",
        "      \n",
        "    from sklearn.model_selection import GridSearchCV\n",
        "    grid_search = GridSearchCV(estimator=estimator, cv=cv,  param_grid=grid, error_score=0.0, n_jobs = -1, verbose = 0)\n",
        "    \n",
        "    # Train the model over and tune the parameters\n",
        "    print(\"Training model\")\n",
        "    grid_search.fit(X, yt)\n",
        "\n",
        "    # CV-score\n",
        "    print(\"Best score: %0.3f\" % grid_search.best_score_)\n",
        "    if len(grid) > 0:\n",
        "        best_parameters = grid_search.best_estimator_.get_params()\n",
        "        print(\"Best parameters set:\",best_parameters)\n",
        "    return grid_search, best_parameters"
      ],
      "execution_count": null,
      "outputs": []
    },
    {
      "cell_type": "markdown",
      "metadata": {
        "id": "Ijx0KUWbaosI"
      },
      "source": [
        "# Decision Trees "
      ]
    },
    {
      "cell_type": "code",
      "metadata": {
        "colab": {
          "base_uri": "https://localhost:8080/"
        },
        "id": "gOj1ZjKlaosJ",
        "outputId": "ba3f5d25-9c72-4375-87d8-f6f535e7a6d5"
      },
      "source": [
        "# Decision Trees model\n",
        "from sklearn.tree import DecisionTreeClassifier\n",
        "\n",
        "criterion = ['gini', 'entropy']\n",
        "splitter = ['best', 'random']\n",
        "max_depth = range(5, 200)\n",
        "max_features = ['auto', 'sqrt', 'log2']\n",
        "\n",
        "params_DT = {\n",
        "    'criterion' : criterion,\n",
        "    'splitter' : splitter,\n",
        "    'max_depth' : max_depth,\n",
        "    'max_features' : max_features\n",
        "}\n",
        "\n",
        "DT_gridsearch, DT_best_params = train_and_evaluate_classifier(train_text_tfidf_features, y_train, DecisionTreeClassifier(), params_DT)"
      ],
      "execution_count": null,
      "outputs": [
        {
          "output_type": "stream",
          "text": [
            "Training model\n",
            "Best score: 0.675\n",
            "Best parameters set: {'ccp_alpha': 0.0, 'class_weight': None, 'criterion': 'gini', 'max_depth': 164, 'max_features': 'auto', 'max_leaf_nodes': None, 'min_impurity_decrease': 0.0, 'min_impurity_split': None, 'min_samples_leaf': 1, 'min_samples_split': 2, 'min_weight_fraction_leaf': 0.0, 'presort': 'deprecated', 'random_state': None, 'splitter': 'best'}\n"
          ],
          "name": "stdout"
        }
      ]
    },
    {
      "cell_type": "code",
      "metadata": {
        "id": "t6fYZYRyLyYH"
      },
      "source": [
        "DT=DecisionTreeClassifier(**DT_best_params)\n",
        "DT_classifier= DT.fit(train_text_tfidf_features, y_train)"
      ],
      "execution_count": null,
      "outputs": []
    },
    {
      "cell_type": "code",
      "metadata": {
        "id": "nc7jUIPSaosJ"
      },
      "source": [
        "# predict y values over the test set\n",
        "y_predict = DT_classifier.predict(test_text_tfidf_features)"
      ],
      "execution_count": null,
      "outputs": []
    },
    {
      "cell_type": "code",
      "metadata": {
        "colab": {
          "base_uri": "https://localhost:8080/"
        },
        "id": "d8TKLGgP5pqs",
        "outputId": "7af2b51a-38c8-4687-fd32-55aa8a8d173e"
      },
      "source": [
        "# calculate metrics\n",
        "from sklearn.metrics import classification_report, confusion_matrix, accuracy_score\n",
        "print(classification_report(y_test, y_predict))"
      ],
      "execution_count": null,
      "outputs": [
        {
          "output_type": "stream",
          "text": [
            "              precision    recall  f1-score   support\n",
            "\n",
            "           0       0.72      0.61      0.66       761\n",
            "           1       0.50      0.36      0.42       382\n",
            "           2       0.68      0.67      0.68       940\n",
            "           3       0.57      0.74      0.64       773\n",
            "\n",
            "    accuracy                           0.63      2856\n",
            "   macro avg       0.62      0.60      0.60      2856\n",
            "weighted avg       0.64      0.63      0.63      2856\n",
            "\n"
          ],
          "name": "stdout"
        }
      ]
    },
    {
      "cell_type": "code",
      "metadata": {
        "colab": {
          "base_uri": "https://localhost:8080/"
        },
        "id": "WIGKEhUsmCu3",
        "outputId": "365821fa-487e-40a5-a5f2-32d8cf3cbb61"
      },
      "source": [
        "import joblib\n",
        "joblib.dump(DT_classifier, 'DT_classifier.pkl')"
      ],
      "execution_count": null,
      "outputs": [
        {
          "output_type": "execute_result",
          "data": {
            "text/plain": [
              "['DT_classifier.pkl']"
            ]
          },
          "metadata": {
            "tags": []
          },
          "execution_count": 134
        }
      ]
    },
    {
      "cell_type": "markdown",
      "metadata": {
        "id": "KXRtmc1MaosJ"
      },
      "source": [
        "# SVM"
      ]
    },
    {
      "cell_type": "code",
      "metadata": {
        "colab": {
          "base_uri": "https://localhost:8080/"
        },
        "id": "93nXtaF4aosK",
        "outputId": "d70d31da-151b-4b0d-ab2c-4b78fb4800ad"
      },
      "source": [
        "# SVM model\n",
        "from sklearn.svm import SVC\n",
        "\n",
        "svm_grid = [\n",
        "  {'C': [0.01, 0.1, 1], 'kernel': ['linear']},\n",
        "  {'C': [1, 10, 100, 1000], 'gamma': ['scale', 'auto'], 'kernel': ['rbf']},\n",
        " ]\n",
        "# Required y_train to be specified as y_train.values.ravel() for it to run.\n",
        "SVM_gridsearch, SVM_best_params = train_and_evaluate_classifier(train_text_tfidf_features, y_train.values.ravel(), SVC(), svm_grid)"
      ],
      "execution_count": null,
      "outputs": [
        {
          "output_type": "stream",
          "text": [
            "Training model\n",
            "Best score: 0.902\n",
            "Best parameters set: {'C': 10, 'break_ties': False, 'cache_size': 200, 'class_weight': None, 'coef0': 0.0, 'decision_function_shape': 'ovr', 'degree': 3, 'gamma': 'scale', 'kernel': 'rbf', 'max_iter': -1, 'probability': False, 'random_state': None, 'shrinking': True, 'tol': 0.001, 'verbose': False}\n"
          ],
          "name": "stdout"
        }
      ]
    },
    {
      "cell_type": "code",
      "metadata": {
        "id": "R-nF9-fdTJTD"
      },
      "source": [
        "SVM= SVC(**SVM_best_params)\n"
      ],
      "execution_count": null,
      "outputs": []
    },
    {
      "cell_type": "code",
      "metadata": {
        "id": "uhc5RIJIYVJI"
      },
      "source": [
        "SVM_classifier= SVM.fit(train_text_tfidf_features, y_train.values.ravel())"
      ],
      "execution_count": null,
      "outputs": []
    },
    {
      "cell_type": "code",
      "metadata": {
        "id": "Wf4cAPXsTJVy"
      },
      "source": [
        "# predict y values over the test set\n",
        "y_predict = SVM_classifier.predict(test_text_tfidf_features)"
      ],
      "execution_count": null,
      "outputs": []
    },
    {
      "cell_type": "code",
      "metadata": {
        "colab": {
          "base_uri": "https://localhost:8080/"
        },
        "id": "pqAD5mQlTJYa",
        "outputId": "f8749b66-1f3c-4377-f6c4-d293e980c52a"
      },
      "source": [
        "# calculate metrics\n",
        "print(classification_report(y_test, y_predict))"
      ],
      "execution_count": null,
      "outputs": [
        {
          "output_type": "stream",
          "text": [
            "              precision    recall  f1-score   support\n",
            "\n",
            "           0       0.84      0.92      0.88       761\n",
            "           1       0.96      0.68      0.80       382\n",
            "           2       0.86      0.93      0.90       940\n",
            "           3       0.94      0.91      0.93       773\n",
            "\n",
            "    accuracy                           0.89      2856\n",
            "   macro avg       0.90      0.86      0.87      2856\n",
            "weighted avg       0.89      0.89      0.89      2856\n",
            "\n"
          ],
          "name": "stdout"
        }
      ]
    },
    {
      "cell_type": "code",
      "metadata": {
        "colab": {
          "base_uri": "https://localhost:8080/"
        },
        "id": "XK9N1-j3l8tl",
        "outputId": "2eaf2d03-8047-475f-96d9-830d06764070"
      },
      "source": [
        "joblib.dump(SVM_classifier, 'SVM_classifier.pkl')"
      ],
      "execution_count": null,
      "outputs": [
        {
          "output_type": "execute_result",
          "data": {
            "text/plain": [
              "['SVM_classifier.pkl']"
            ]
          },
          "metadata": {
            "tags": []
          },
          "execution_count": 130
        }
      ]
    },
    {
      "cell_type": "markdown",
      "metadata": {
        "id": "4KIWUcfyaosK"
      },
      "source": [
        "# KNN"
      ]
    },
    {
      "cell_type": "code",
      "metadata": {
        "colab": {
          "base_uri": "https://localhost:8080/"
        },
        "id": "VjAYaSiBaosK",
        "outputId": "1f8735d2-c1a1-4b81-cf3f-98d6d6ae096a"
      },
      "source": [
        "# KNN model\n",
        "from sklearn.neighbors import KNeighborsClassifier\n",
        "\n",
        "n_neighbors = range(5, 6)\n",
        "weights = ['uniform', 'distance']\n",
        "algorithm = ['auto', 'ball_tree', 'kd_tree', 'brute']\n",
        "leaf_size = range(30, 100)\n",
        "p = range(1, 4)\n",
        "\n",
        "params_knn = {\n",
        "    'n_neighbors' : n_neighbors,\n",
        "    'weights' : weights,\n",
        "    'algorithm' : algorithm,\n",
        "    'leaf_size' : leaf_size,\n",
        "    'p'  : p\n",
        "}\n",
        "\n",
        "KNN_gridsearch, KNN_best_params = train_and_evaluate_classifier(train_text_tfidf_features, y_train.values.ravel(), KNeighborsClassifier(), params_knn)"
      ],
      "execution_count": null,
      "outputs": [
        {
          "output_type": "stream",
          "text": [
            "Training model\n",
            "Best score: 0.398\n",
            "Best parameters set: {'algorithm': 'auto', 'leaf_size': 30, 'metric': 'minkowski', 'metric_params': None, 'n_jobs': None, 'n_neighbors': 5, 'p': 2, 'weights': 'uniform'}\n"
          ],
          "name": "stdout"
        }
      ]
    },
    {
      "cell_type": "code",
      "metadata": {
        "id": "BDOC1Q4ZTcL7"
      },
      "source": [
        "KNN = KNeighborsClassifier(**KNN_best_params)\n",
        "KNN_classifier= KNN.fit(train_text_tfidf_features, y_train.values.ravel())"
      ],
      "execution_count": null,
      "outputs": []
    },
    {
      "cell_type": "code",
      "metadata": {
        "id": "jY9TTW9LTcOZ"
      },
      "source": [
        "# predict y values over the test set\n",
        "y_predict = KNN_classifier.predict(test_text_tfidf_features)"
      ],
      "execution_count": null,
      "outputs": []
    },
    {
      "cell_type": "code",
      "metadata": {
        "colab": {
          "base_uri": "https://localhost:8080/"
        },
        "id": "agIe1uD2TcQ2",
        "outputId": "143ed874-b9e1-4cf8-f5fc-0b6e6652caee"
      },
      "source": [
        "# calculate metrics\n",
        "print(classification_report(y_test, y_predict))"
      ],
      "execution_count": null,
      "outputs": [
        {
          "output_type": "stream",
          "text": [
            "              precision    recall  f1-score   support\n",
            "\n",
            "           0       1.00      0.02      0.04       761\n",
            "           1       1.00      0.01      0.01       382\n",
            "           2       1.00      0.01      0.02       940\n",
            "           3       0.27      1.00      0.43       773\n",
            "\n",
            "    accuracy                           0.28      2856\n",
            "   macro avg       0.82      0.26      0.12      2856\n",
            "weighted avg       0.80      0.28      0.13      2856\n",
            "\n"
          ],
          "name": "stdout"
        }
      ]
    },
    {
      "cell_type": "code",
      "metadata": {
        "colab": {
          "base_uri": "https://localhost:8080/"
        },
        "id": "bG5ChuFGl0gn",
        "outputId": "4607a18b-a00a-4a52-f45e-dbbe56d88661"
      },
      "source": [
        "joblib.dump(KNN_classifier, 'KNN_classifier.pkl')"
      ],
      "execution_count": null,
      "outputs": [
        {
          "output_type": "execute_result",
          "data": {
            "text/plain": [
              "['KNN_classifier.pkl']"
            ]
          },
          "metadata": {
            "tags": []
          },
          "execution_count": 129
        }
      ]
    },
    {
      "cell_type": "markdown",
      "metadata": {
        "id": "apswemVhaosK"
      },
      "source": [
        "# MaxEnt Classifiers"
      ]
    },
    {
      "cell_type": "code",
      "metadata": {
        "colab": {
          "base_uri": "https://localhost:8080/"
        },
        "id": "ICZ6gR8qaosK",
        "outputId": "977cf365-9deb-4fd3-a669-9d28bb0b0c35"
      },
      "source": [
        "from sklearn.linear_model import LogisticRegression\n",
        "max_ent_grid= {'penalty': ['l1','l2'], 'C': [0.001,0.01,0.1,1,10,100]}\n",
        "MaxEnt_gridsearch, MaxEnt_best_params = train_and_evaluate_classifier(train_text_tfidf_features, y_train.values.ravel(), LogisticRegression(), max_ent_grid)"
      ],
      "execution_count": null,
      "outputs": [
        {
          "output_type": "stream",
          "text": [
            "Training model\n",
            "Best score: 0.910\n",
            "Best parameters set: {'C': 10, 'class_weight': None, 'dual': False, 'fit_intercept': True, 'intercept_scaling': 1, 'l1_ratio': None, 'max_iter': 100, 'multi_class': 'auto', 'n_jobs': None, 'penalty': 'l2', 'random_state': None, 'solver': 'lbfgs', 'tol': 0.0001, 'verbose': 0, 'warm_start': False}\n"
          ],
          "name": "stdout"
        },
        {
          "output_type": "stream",
          "text": [
            "/usr/local/lib/python3.7/dist-packages/sklearn/linear_model/_logistic.py:940: ConvergenceWarning: lbfgs failed to converge (status=1):\n",
            "STOP: TOTAL NO. of ITERATIONS REACHED LIMIT.\n",
            "\n",
            "Increase the number of iterations (max_iter) or scale the data as shown in:\n",
            "    https://scikit-learn.org/stable/modules/preprocessing.html\n",
            "Please also refer to the documentation for alternative solver options:\n",
            "    https://scikit-learn.org/stable/modules/linear_model.html#logistic-regression\n",
            "  extra_warning_msg=_LOGISTIC_SOLVER_CONVERGENCE_MSG)\n"
          ],
          "name": "stderr"
        }
      ]
    },
    {
      "cell_type": "code",
      "metadata": {
        "colab": {
          "base_uri": "https://localhost:8080/"
        },
        "id": "zC2hK_dxTppw",
        "outputId": "7a18965a-afe8-4347-8feb-bb4008a8495b"
      },
      "source": [
        "MaxEnt = LogisticRegression(**MaxEnt_best_params)\n",
        "MaxEnt_classifier= MaxEnt.fit(train_text_tfidf_features, y_train.values.ravel())"
      ],
      "execution_count": null,
      "outputs": [
        {
          "output_type": "stream",
          "text": [
            "/usr/local/lib/python3.7/dist-packages/sklearn/linear_model/_logistic.py:940: ConvergenceWarning: lbfgs failed to converge (status=1):\n",
            "STOP: TOTAL NO. of ITERATIONS REACHED LIMIT.\n",
            "\n",
            "Increase the number of iterations (max_iter) or scale the data as shown in:\n",
            "    https://scikit-learn.org/stable/modules/preprocessing.html\n",
            "Please also refer to the documentation for alternative solver options:\n",
            "    https://scikit-learn.org/stable/modules/linear_model.html#logistic-regression\n",
            "  extra_warning_msg=_LOGISTIC_SOLVER_CONVERGENCE_MSG)\n"
          ],
          "name": "stderr"
        }
      ]
    },
    {
      "cell_type": "code",
      "metadata": {
        "id": "kwRiuCRuTpso"
      },
      "source": [
        "# predict y values over the test set\n",
        "y_predict = MaxEnt_classifier.predict(test_text_tfidf_features)"
      ],
      "execution_count": null,
      "outputs": []
    },
    {
      "cell_type": "code",
      "metadata": {
        "colab": {
          "base_uri": "https://localhost:8080/"
        },
        "id": "_J_DwWKMTpu9",
        "outputId": "cf71f467-925a-428c-d5a8-5150e42b389c"
      },
      "source": [
        "# calculate metrics\n",
        "print(classification_report(y_test, y_predict))"
      ],
      "execution_count": null,
      "outputs": [
        {
          "output_type": "stream",
          "text": [
            "              precision    recall  f1-score   support\n",
            "\n",
            "           0       0.87      0.92      0.89       761\n",
            "           1       0.94      0.76      0.84       382\n",
            "           2       0.88      0.92      0.90       940\n",
            "           3       0.93      0.92      0.92       773\n",
            "\n",
            "    accuracy                           0.90      2856\n",
            "   macro avg       0.91      0.88      0.89      2856\n",
            "weighted avg       0.90      0.90      0.90      2856\n",
            "\n"
          ],
          "name": "stdout"
        }
      ]
    },
    {
      "cell_type": "code",
      "metadata": {
        "colab": {
          "base_uri": "https://localhost:8080/"
        },
        "id": "Ww0QgE64lqUh",
        "outputId": "bdf76df8-d31e-49fa-ae17-d2d87d9533b4"
      },
      "source": [
        "joblib.dump(MaxEnt_classifier, 'MaxEnt_classifier.pkl')"
      ],
      "execution_count": null,
      "outputs": [
        {
          "output_type": "execute_result",
          "data": {
            "text/plain": [
              "['MaxEnt_classifier.pkl']"
            ]
          },
          "metadata": {
            "tags": []
          },
          "execution_count": 128
        }
      ]
    },
    {
      "cell_type": "markdown",
      "metadata": {
        "id": "BFW_C68QaosJ"
      },
      "source": [
        "# Naive Bayes"
      ]
    },
    {
      "cell_type": "code",
      "metadata": {
        "colab": {
          "base_uri": "https://localhost:8080/"
        },
        "id": "Kvk4UnvaaosJ",
        "outputId": "6e4083b2-6e87-4a47-d7dc-cf4ca79e465c"
      },
      "source": [
        "NB_params={'alpha':[0,1]}\n",
        "NB_gridsearch, NB_best_params  = train_and_evaluate_classifier(train_text_tfidf_features, y_train.values.ravel(), MultinomialNB(), NB_params)"
      ],
      "execution_count": null,
      "outputs": [
        {
          "output_type": "stream",
          "text": [
            "Training model\n",
            "Best score: 0.909\n",
            "Best parameters set: {'alpha': 0, 'class_prior': None, 'fit_prior': True}\n"
          ],
          "name": "stdout"
        },
        {
          "output_type": "stream",
          "text": [
            "/usr/local/lib/python3.7/dist-packages/sklearn/naive_bayes.py:507: UserWarning: alpha too small will result in numeric errors, setting alpha = 1.0e-10\n",
            "  'setting alpha = %.1e' % _ALPHA_MIN)\n"
          ],
          "name": "stderr"
        }
      ]
    },
    {
      "cell_type": "code",
      "metadata": {
        "id": "n1Shu8kqSeH5"
      },
      "source": [
        "NB=MultinomialNB()\n",
        "NB_classifier= NB.fit(train_text_tfidf_features, y_train.values.ravel())"
      ],
      "execution_count": null,
      "outputs": []
    },
    {
      "cell_type": "code",
      "metadata": {
        "id": "-BszZpHuSePm"
      },
      "source": [
        "# predict y values over the test set\n",
        "y_predict = NB_classifier.predict(test_text_tfidf_features)"
      ],
      "execution_count": null,
      "outputs": []
    },
    {
      "cell_type": "code",
      "metadata": {
        "colab": {
          "base_uri": "https://localhost:8080/"
        },
        "id": "CHncoDwIS8MC",
        "outputId": "a7aaa32b-e4dc-494e-ad1a-cbdbcb61d632"
      },
      "source": [
        "# calculate metrics\n",
        "print(classification_report(y_test, y_predict))"
      ],
      "execution_count": null,
      "outputs": [
        {
          "output_type": "stream",
          "text": [
            "              precision    recall  f1-score   support\n",
            "\n",
            "           0       0.91      0.87      0.89       761\n",
            "           1       1.00      0.21      0.35       382\n",
            "           2       0.69      0.98      0.81       940\n",
            "           3       0.96      0.89      0.93       773\n",
            "\n",
            "    accuracy                           0.82      2856\n",
            "   macro avg       0.89      0.74      0.74      2856\n",
            "weighted avg       0.86      0.82      0.80      2856\n",
            "\n"
          ],
          "name": "stdout"
        }
      ]
    },
    {
      "cell_type": "code",
      "metadata": {
        "colab": {
          "base_uri": "https://localhost:8080/"
        },
        "id": "rcPnwLwWlOya",
        "outputId": "461717ac-1e62-4b2e-a302-2a4b24ab8f5c"
      },
      "source": [
        "joblib.dump(NB_classifier, 'NB_classifier.pkl')"
      ],
      "execution_count": null,
      "outputs": [
        {
          "output_type": "execute_result",
          "data": {
            "text/plain": [
              "['NB_classifier.pkl']"
            ]
          },
          "metadata": {
            "tags": []
          },
          "execution_count": 127
        }
      ]
    },
    {
      "cell_type": "markdown",
      "metadata": {
        "id": "BR3nXzSRaosK"
      },
      "source": [
        "# LSTM"
      ]
    },
    {
      "cell_type": "code",
      "metadata": {
        "colab": {
          "base_uri": "https://localhost:8080/",
          "height": 35
        },
        "id": "1eh-ffsW05YN",
        "outputId": "c0a0220a-bda0-463d-ddff-cf900117b8f8"
      },
      "source": [
        "import fastai\n",
        "fastai.__version__"
      ],
      "execution_count": 43,
      "outputs": [
        {
          "output_type": "execute_result",
          "data": {
            "application/vnd.google.colaboratory.intrinsic+json": {
              "type": "string"
            },
            "text/plain": [
              "'2.3.1'"
            ]
          },
          "metadata": {
            "tags": []
          },
          "execution_count": 43
        }
      ]
    },
    {
      "cell_type": "code",
      "metadata": {
        "id": "SBCUz1Md0Dnw"
      },
      "source": [
        "from fastai.basics import *\n",
        "from fastai.callback.all import *\n",
        "from fastai.text.all import *\n",
        "from fastai.text import *"
      ],
      "execution_count": 44,
      "outputs": []
    },
    {
      "cell_type": "code",
      "metadata": {
        "id": "touIt5OOE6So"
      },
      "source": [
        "training_df.drop(['words_count'],axis=1,inplace=True)\n",
        "test_df.drop(['words_count'],axis=1,inplace=True)"
      ],
      "execution_count": 45,
      "outputs": []
    },
    {
      "cell_type": "code",
      "metadata": {
        "colab": {
          "base_uri": "https://localhost:8080/",
          "height": 697
        },
        "id": "o1amLAPoEjQw",
        "outputId": "94b6ad6d-10fa-42a2-dbcb-bd608a46f8b8"
      },
      "source": [
        "df_all = pd.concat([training_df, test_df])\n",
        "df_all"
      ],
      "execution_count": 46,
      "outputs": [
        {
          "output_type": "execute_result",
          "data": {
            "text/html": [
              "<div>\n",
              "<style scoped>\n",
              "    .dataframe tbody tr th:only-of-type {\n",
              "        vertical-align: middle;\n",
              "    }\n",
              "\n",
              "    .dataframe tbody tr th {\n",
              "        vertical-align: top;\n",
              "    }\n",
              "\n",
              "    .dataframe thead th {\n",
              "        text-align: right;\n",
              "    }\n",
              "</style>\n",
              "<table border=\"1\" class=\"dataframe\">\n",
              "  <thead>\n",
              "    <tr style=\"text-align: right;\">\n",
              "      <th></th>\n",
              "      <th>text</th>\n",
              "      <th>target</th>\n",
              "    </tr>\n",
              "  </thead>\n",
              "  <tbody>\n",
              "    <tr>\n",
              "      <th>0</th>\n",
              "      <td>I was wondering if anyone out there could enlighten me on this car I saw\\nthe other day. It was a 2-door sports car, looked to be from the late 60s/\\nearly 70s. It was called a Bricklin. The doors were really small. In addition,\\nthe front bumper was separate from the rest of the body. This is \\nall I know. If anyone can tellme a model name, engine specs, years\\nof production, where this car is made, history, or whatever info you\\nhave on this funky looking car, please e-mail.</td>\n",
              "      <td>automobile</td>\n",
              "    </tr>\n",
              "    <tr>\n",
              "      <th>6</th>\n",
              "      <td>There were a few people who responded to my request for info on\\ntreatment for astrocytomas through email, whom I couldn't thank\\ndirectly because of mail-bouncing probs (Sean, Debra, and Sharon).  So\\nI thought I'd publicly thank everyone.\\n\\nThanks! \\n\\n(I'm sure glad I accidentally hit \"rn\" instead of \"rm\" when I was\\ntrying to delete a file last September. \"Hmmm... 'News?' What's\\nthis?\"....)</td>\n",
              "      <td>medicine</td>\n",
              "    </tr>\n",
              "    <tr>\n",
              "      <th>10</th>\n",
              "      <td>I have a line on a Ducati 900GTS 1978 model with 17k on the clock.  Runs\\nvery well, paint is the bronze/brown/orange faded out, leaks a bit of oil\\nand pops out of 1st with hard accel.  The shop will fix trans and oil \\nleak.  They sold the bike to the 1 and only owner.  They want $3495, and\\nI am thinking more like $3K.  Any opinions out there?  Please email me.\\nThanks.  It would be a nice stable mate to the Beemer.  Then I'll get\\na jap bike and call myself Axis Motors!\\n\\n-- \\n-----------------------------------------------------------------------\\n\"Tuba\" (Irwin)      \"I honk therefor...</td>\n",
              "      <td>automobile</td>\n",
              "    </tr>\n",
              "    <tr>\n",
              "      <th>11</th>\n",
              "      <td>\\nYep, that's pretty much it. I'm not a Jew but I understand that this is the\\nJewish way of thinking. However, the Jews believe that the Covenant between\\nYHWH and the Patriarchs (Abraham and Moses, in this case) establishes a Moral\\nCode to follow for mankind. Even the Jews could not decide where the boundaries\\nfall, though.\\n\\nAs I understand it, the Sadducees believed that the Torah was all that was\\nrequired, whereas the Pharisees (the ancestors of modern Judaism) believed that\\nthe Torah was available for interpretation to lead to an understanding of\\nthe required Morality in all it...</td>\n",
              "      <td>religion</td>\n",
              "    </tr>\n",
              "    <tr>\n",
              "      <th>15</th>\n",
              "      <td>\\nDon't be so sure.  Look what happened to Japanese citizens in the US during\\nWorld War II.  If you're prepared to say \"Let's round these people up and\\nstick them in a concentration camp without trial\", it's only a short step to\\ngassing them without trial.  After all, it seems that the Nazis originally\\nonly intended to imprison the Jews; the Final Solution was dreamt up partly\\nbecause they couldn't afford to run the camps because of the devastation\\ncaused by Goering's Total War.  Those who weren't gassed generally died of\\nmalnutrition or disease.\\n</td>\n",
              "      <td>religion</td>\n",
              "    </tr>\n",
              "    <tr>\n",
              "      <th>...</th>\n",
              "      <td>...</td>\n",
              "      <td>...</td>\n",
              "    </tr>\n",
              "    <tr>\n",
              "      <th>7520</th>\n",
              "      <td>First off, if I'm not mistaken, only hibernating animals have brown fat,\\nnot humans.\\n\\nSecondly, your description sounds just like 2,4-dinitrophenol.  This is an\\nuncoupler of respiratory chain oxidative phosphorylation.  Put in layman's\\nterms, it short-circuits the mitochondria, causing food energy to be\\nturned into heat.\\n\\n2,4-DNP was popular in the 1930's for weight reduction.  In controlled\\namounts, it raises body temperature as the body compensates for the\\nreduced amount of useful energy available.  It is very dangerous.\\nIt would be wiser to adjust to your present body form, r...</td>\n",
              "      <td>medicine</td>\n",
              "    </tr>\n",
              "    <tr>\n",
              "      <th>7522</th>\n",
              "      <td>: \\n: &gt;move a little, the pain will be excrutiating. I was told by my doctor\\n: &gt;at that time that the pain was comparable to that of childbirth. (Yes,\\n: &gt;by a male doctor, so I'm sure some of you women will disagree). I'd\\n: &gt;really like to know the truth in this, so maybe some of you women who\\n: &gt;have had a baby and a kidney stone could fill me in. \\n: \\n: One more reason for men to learn the Lamaze breathing techniques, in order\\n: to be able to get some pain reduction instantly, wherever you are.\\n: -- \\n: :-  Michael A. Covington, Associate Research Scientist        :    *****\\n: :-...</td>\n",
              "      <td>medicine</td>\n",
              "    </tr>\n",
              "    <tr>\n",
              "      <th>7526</th>\n",
              "      <td>1954 MG-TF with frame-up restoration in early '70's - a local show winner!\\nDriven very little and stored inside since then - mostly collected dirt &amp;\\ndust.  Needs attention to brake cylinders (like all MG-T's) but otherwise\\nready to run.  Chrome &amp; paint not fancy but it is mechanically excellent.\\nThe engine, a 1250cc, was completely overhauled by a machine shop.  It is\\npriced at $12,000.\\n\\n1953 MG-TD Good shape but hasn't been run since '70's.  Needs engine work,\\nbut no rust and everything is with it including a top, side curtains and\\ncarpet that were new and haven't seen the outdoo...</td>\n",
              "      <td>automobile</td>\n",
              "    </tr>\n",
              "    <tr>\n",
              "      <th>7529</th>\n",
              "      <td>I sent a version of this post out a while ago, but it was swallowed by\\nthe void.  My apologies if anyone ends up receiving it.\\n\\n\\n\\nOh no, I wasn't confused -- I understood that it was your personal\\nopinion.  But I thought we were discussing the need to shorten\\ngames.  The arguments which declare this need seem to hinge on\\nthe assertion that long games bore people and otherwise discourage\\nthem from going to the ballpark.  I'd like to see if the increased\\nlength of games has negatively affected attendance.  If it has, then\\nthere *is* a problem, and something should be done about it...</td>\n",
              "      <td>sport</td>\n",
              "    </tr>\n",
              "    <tr>\n",
              "      <th>7531</th>\n",
              "      <td>\\nFine, but one of the points of this entire discussion is that \"we\"\\n(conservative, reformed christians - this could start an argument...\\nBut isn't this idea that homosexuality is ok fairly \"new\" [this\\ncentury] ? Is there any support for this being a viable viewpoint\\nbefore this century? I don't know.) don't believe that homosexuality\\nis \"acceptable to Him\". So your scripture quotation doesn't work for\\n\"us\".</td>\n",
              "      <td>religion</td>\n",
              "    </tr>\n",
              "  </tbody>\n",
              "</table>\n",
              "<p>7159 rows × 2 columns</p>\n",
              "</div>"
            ],
            "text/plain": [
              "                                                                                                                                                                                                                                                                                                                                                                                                                                                                                                                                                                                                                         text      target\n",
              "0                                                                                                                           I was wondering if anyone out there could enlighten me on this car I saw\\nthe other day. It was a 2-door sports car, looked to be from the late 60s/\\nearly 70s. It was called a Bricklin. The doors were really small. In addition,\\nthe front bumper was separate from the rest of the body. This is \\nall I know. If anyone can tellme a model name, engine specs, years\\nof production, where this car is made, history, or whatever info you\\nhave on this funky looking car, please e-mail.  automobile\n",
              "6                                                                                                                                                                                                             There were a few people who responded to my request for info on\\ntreatment for astrocytomas through email, whom I couldn't thank\\ndirectly because of mail-bouncing probs (Sean, Debra, and Sharon).  So\\nI thought I'd publicly thank everyone.\\n\\nThanks! \\n\\n(I'm sure glad I accidentally hit \"rn\" instead of \"rm\" when I was\\ntrying to delete a file last September. \"Hmmm... 'News?' What's\\nthis?\"....)    medicine\n",
              "10    I have a line on a Ducati 900GTS 1978 model with 17k on the clock.  Runs\\nvery well, paint is the bronze/brown/orange faded out, leaks a bit of oil\\nand pops out of 1st with hard accel.  The shop will fix trans and oil \\nleak.  They sold the bike to the 1 and only owner.  They want $3495, and\\nI am thinking more like $3K.  Any opinions out there?  Please email me.\\nThanks.  It would be a nice stable mate to the Beemer.  Then I'll get\\na jap bike and call myself Axis Motors!\\n\\n-- \\n-----------------------------------------------------------------------\\n\"Tuba\" (Irwin)      \"I honk therefor...  automobile\n",
              "11    \\nYep, that's pretty much it. I'm not a Jew but I understand that this is the\\nJewish way of thinking. However, the Jews believe that the Covenant between\\nYHWH and the Patriarchs (Abraham and Moses, in this case) establishes a Moral\\nCode to follow for mankind. Even the Jews could not decide where the boundaries\\nfall, though.\\n\\nAs I understand it, the Sadducees believed that the Torah was all that was\\nrequired, whereas the Pharisees (the ancestors of modern Judaism) believed that\\nthe Torah was available for interpretation to lead to an understanding of\\nthe required Morality in all it...    religion\n",
              "15                                          \\nDon't be so sure.  Look what happened to Japanese citizens in the US during\\nWorld War II.  If you're prepared to say \"Let's round these people up and\\nstick them in a concentration camp without trial\", it's only a short step to\\ngassing them without trial.  After all, it seems that the Nazis originally\\nonly intended to imprison the Jews; the Final Solution was dreamt up partly\\nbecause they couldn't afford to run the camps because of the devastation\\ncaused by Goering's Total War.  Those who weren't gassed generally died of\\nmalnutrition or disease.\\n    religion\n",
              "...                                                                                                                                                                                                                                                                                                                                                                                                                                                                                                                                                                                                                       ...         ...\n",
              "7520  First off, if I'm not mistaken, only hibernating animals have brown fat,\\nnot humans.\\n\\nSecondly, your description sounds just like 2,4-dinitrophenol.  This is an\\nuncoupler of respiratory chain oxidative phosphorylation.  Put in layman's\\nterms, it short-circuits the mitochondria, causing food energy to be\\nturned into heat.\\n\\n2,4-DNP was popular in the 1930's for weight reduction.  In controlled\\namounts, it raises body temperature as the body compensates for the\\nreduced amount of useful energy available.  It is very dangerous.\\nIt would be wiser to adjust to your present body form, r...    medicine\n",
              "7522  : \\n: >move a little, the pain will be excrutiating. I was told by my doctor\\n: >at that time that the pain was comparable to that of childbirth. (Yes,\\n: >by a male doctor, so I'm sure some of you women will disagree). I'd\\n: >really like to know the truth in this, so maybe some of you women who\\n: >have had a baby and a kidney stone could fill me in. \\n: \\n: One more reason for men to learn the Lamaze breathing techniques, in order\\n: to be able to get some pain reduction instantly, wherever you are.\\n: -- \\n: :-  Michael A. Covington, Associate Research Scientist        :    *****\\n: :-...    medicine\n",
              "7526  1954 MG-TF with frame-up restoration in early '70's - a local show winner!\\nDriven very little and stored inside since then - mostly collected dirt &\\ndust.  Needs attention to brake cylinders (like all MG-T's) but otherwise\\nready to run.  Chrome & paint not fancy but it is mechanically excellent.\\nThe engine, a 1250cc, was completely overhauled by a machine shop.  It is\\npriced at $12,000.\\n\\n1953 MG-TD Good shape but hasn't been run since '70's.  Needs engine work,\\nbut no rust and everything is with it including a top, side curtains and\\ncarpet that were new and haven't seen the outdoo...  automobile\n",
              "7529  I sent a version of this post out a while ago, but it was swallowed by\\nthe void.  My apologies if anyone ends up receiving it.\\n\\n\\n\\nOh no, I wasn't confused -- I understood that it was your personal\\nopinion.  But I thought we were discussing the need to shorten\\ngames.  The arguments which declare this need seem to hinge on\\nthe assertion that long games bore people and otherwise discourage\\nthem from going to the ballpark.  I'd like to see if the increased\\nlength of games has negatively affected attendance.  If it has, then\\nthere *is* a problem, and something should be done about it...       sport\n",
              "7531                                                                                                                                                                                        \\nFine, but one of the points of this entire discussion is that \"we\"\\n(conservative, reformed christians - this could start an argument...\\nBut isn't this idea that homosexuality is ok fairly \"new\" [this\\ncentury] ? Is there any support for this being a viable viewpoint\\nbefore this century? I don't know.) don't believe that homosexuality\\nis \"acceptable to Him\". So your scripture quotation doesn't work for\\n\"us\".    religion\n",
              "\n",
              "[7159 rows x 2 columns]"
            ]
          },
          "metadata": {
            "tags": []
          },
          "execution_count": 46
        }
      ]
    },
    {
      "cell_type": "code",
      "metadata": {
        "id": "aOWdCBJRaosL",
        "colab": {
          "base_uri": "https://localhost:8080/",
          "height": 341
        },
        "outputId": "a2dce51f-6adf-41a3-97a1-79af1bd6b9f9"
      },
      "source": [
        "# Language model data\n",
        "dls_lm = DataBlock(\n",
        "    blocks=TextBlock.from_df('text', is_lm=True),\n",
        "    get_x=ColReader('text'),\n",
        "    splitter=RandomSplitter(0.1)\n",
        ").dataloaders(df_all, bs=64, seq_len=40)\n",
        "\n",
        "dls_lm.show_batch(max_n=5)"
      ],
      "execution_count": 47,
      "outputs": [
        {
          "output_type": "display_data",
          "data": {
            "text/html": [
              ""
            ],
            "text/plain": [
              "<IPython.core.display.HTML object>"
            ]
          },
          "metadata": {
            "tags": []
          }
        },
        {
          "output_type": "stream",
          "text": [
            "/usr/local/lib/python3.7/dist-packages/numpy/core/_asarray.py:83: VisibleDeprecationWarning: Creating an ndarray from ragged nested sequences (which is a list-or-tuple of lists-or-tuples-or ndarrays with different lengths or shapes) is deprecated. If you meant to do this, you must specify 'dtype=object' when creating the ndarray\n",
            "  return array(a, dtype, copy=False, order=order)\n"
          ],
          "name": "stderr"
        },
        {
          "output_type": "display_data",
          "data": {
            "text/html": [
              "<table border=\"1\" class=\"dataframe\">\n",
              "  <thead>\n",
              "    <tr style=\"text-align: right;\">\n",
              "      <th></th>\n",
              "      <th>text</th>\n",
              "      <th>text_</th>\n",
              "    </tr>\n",
              "  </thead>\n",
              "  <tbody>\n",
              "    <tr>\n",
              "      <th>0</th>\n",
              "      <td>xxbos xxmaj says who ? xxmaj other than a hear - say god . \\n\\n\\n xxmaj you sure do n't understand it . \\n\\n\\n xxmaj bill , i hereby award you the xxmaj golden xxmaj shovel xxmaj award for the</td>\n",
              "      <td>xxmaj says who ? xxmaj other than a hear - say god . \\n\\n\\n xxmaj you sure do n't understand it . \\n\\n\\n xxmaj bill , i hereby award you the xxmaj golden xxmaj shovel xxmaj award for the xxunk</td>\n",
              "    </tr>\n",
              "    <tr>\n",
              "      <th>1</th>\n",
              "      <td>get his points . xxmaj anyone in xxmaj vancouver care to comment on xxmaj courtnall \\n as a defensive liability ? \\n\\n xxmaj ken xxmaj xxunk for xxmaj dave xxmaj poulin ( flyers ) + + . xxmaj any more</td>\n",
              "      <td>his points . xxmaj anyone in xxmaj vancouver care to comment on xxmaj courtnall \\n as a defensive liability ? \\n\\n xxmaj ken xxmaj xxunk for xxmaj dave xxmaj poulin ( flyers ) + + . xxmaj any more questions</td>\n",
              "    </tr>\n",
              "    <tr>\n",
              "      <th>2</th>\n",
              "      <td>times the xxup rda . xxmaj is \\n this safe ? ! ? . \\n\\n xxmaj also what was the condition that xxup b6 was theraputic for ? \\n\\n xxmaj mail would be just fine if you do n't want</td>\n",
              "      <td>the xxup rda . xxmaj is \\n this safe ? ! ? . \\n\\n xxmaj also what was the condition that xxup b6 was theraputic for ? \\n\\n xxmaj mail would be just fine if you do n't want to</td>\n",
              "    </tr>\n",
              "    <tr>\n",
              "      <th>3</th>\n",
              "      <td>- 03 01 - 05 \\n\\n xxup national xxup east \\n xxmaj philadelphia xxmaj phillies 08 02 xxunk -- 8 - 2 xxmaj lost 1 05 - 01 03 - 01 \\n xxmaj pittsburgh xxmaj pirates 07 03 .700 1.0</td>\n",
              "      <td>03 01 - 05 \\n\\n xxup national xxup east \\n xxmaj philadelphia xxmaj phillies 08 02 xxunk -- 8 - 2 xxmaj lost 1 05 - 01 03 - 01 \\n xxmaj pittsburgh xxmaj pirates 07 03 .700 1.0 7</td>\n",
              "    </tr>\n",
              "    <tr>\n",
              "      <th>4</th>\n",
              "      <td>xxunk xxmaj xxunk xxrep 3 - xxunk \\n xxmaj yemen - xxmaj yemen xxrep 3 - 17.12.92 \\n\\n xxup total xxunk \\n\\n\\n\\n xxup europe \\n\\n xxmaj xxunk - xxmaj xxunk xxrep 3 - 30.09.92 \\n xxmaj austria - xxmaj xxunk</td>\n",
              "      <td>xxmaj xxunk xxrep 3 - xxunk \\n xxmaj yemen - xxmaj yemen xxrep 3 - 17.12.92 \\n\\n xxup total xxunk \\n\\n\\n\\n xxup europe \\n\\n xxmaj xxunk - xxmaj xxunk xxrep 3 - 30.09.92 \\n xxmaj austria - xxmaj xxunk xxunk</td>\n",
              "    </tr>\n",
              "  </tbody>\n",
              "</table>"
            ],
            "text/plain": [
              "<IPython.core.display.HTML object>"
            ]
          },
          "metadata": {
            "tags": []
          }
        }
      ]
    },
    {
      "cell_type": "code",
      "metadata": {
        "id": "HlELfI2YaosL",
        "colab": {
          "base_uri": "https://localhost:8080/",
          "height": 16
        },
        "outputId": "da821b9d-646f-41f9-881a-fdf18e3dd56b"
      },
      "source": [
        "learn = language_model_learner(\n",
        "    dls_lm, AWD_LSTM, drop_mult=0.3, \n",
        "    metrics=[accuracy, Perplexity()]).to_fp16()"
      ],
      "execution_count": 48,
      "outputs": [
        {
          "output_type": "display_data",
          "data": {
            "text/html": [
              ""
            ],
            "text/plain": [
              "<IPython.core.display.HTML object>"
            ]
          },
          "metadata": {
            "tags": []
          }
        }
      ]
    },
    {
      "cell_type": "code",
      "metadata": {
        "id": "ccH6deFJaosL",
        "colab": {
          "base_uri": "https://localhost:8080/",
          "height": 301
        },
        "outputId": "c99ad615-763e-4ae8-c34a-9e0d121744c0"
      },
      "source": [
        "learn.lr_find(start_lr=1e-6, end_lr=1)"
      ],
      "execution_count": 49,
      "outputs": [
        {
          "output_type": "display_data",
          "data": {
            "text/html": [
              ""
            ],
            "text/plain": [
              "<IPython.core.display.HTML object>"
            ]
          },
          "metadata": {
            "tags": []
          }
        },
        {
          "output_type": "execute_result",
          "data": {
            "text/plain": [
              "SuggestedLRs(lr_min=0.01659586876630783, lr_steep=0.05495408922433853)"
            ]
          },
          "metadata": {
            "tags": []
          },
          "execution_count": 49
        },
        {
          "output_type": "display_data",
          "data": {
            "image/png": "[encoded data removed]",
            "text/plain": [
              "<Figure size 432x288 with 1 Axes>"
            ]
          },
          "metadata": {
            "tags": [],
            "needs_background": "light"
          }
        }
      ]
    },
    {
      "cell_type": "markdown",
      "metadata": {
        "id": "P1rmk-lfgDE8"
      },
      "source": [
        "Trained the last layers in our model to avoid forgetting everything. "
      ]
    },
    {
      "cell_type": "code",
      "metadata": {
        "id": "DNP19MFyaosM",
        "colab": {
          "base_uri": "https://localhost:8080/",
          "height": 202
        },
        "outputId": "1fa1d4b1-2db7-4d36-c477-59e4af1b8f7b"
      },
      "source": [
        "learn.fit_one_cycle(5, 1e-2)"
      ],
      "execution_count": 51,
      "outputs": [
        {
          "output_type": "display_data",
          "data": {
            "text/html": [
              "<table border=\"1\" class=\"dataframe\">\n",
              "  <thead>\n",
              "    <tr style=\"text-align: left;\">\n",
              "      <th>epoch</th>\n",
              "      <th>train_loss</th>\n",
              "      <th>valid_loss</th>\n",
              "      <th>accuracy</th>\n",
              "      <th>perplexity</th>\n",
              "      <th>time</th>\n",
              "    </tr>\n",
              "  </thead>\n",
              "  <tbody>\n",
              "    <tr>\n",
              "      <td>0</td>\n",
              "      <td>3.800987</td>\n",
              "      <td>4.068958</td>\n",
              "      <td>0.272031</td>\n",
              "      <td>58.495995</td>\n",
              "      <td>01:35</td>\n",
              "    </tr>\n",
              "    <tr>\n",
              "      <td>1</td>\n",
              "      <td>3.810193</td>\n",
              "      <td>4.043777</td>\n",
              "      <td>0.275203</td>\n",
              "      <td>57.041382</td>\n",
              "      <td>01:36</td>\n",
              "    </tr>\n",
              "    <tr>\n",
              "      <td>2</td>\n",
              "      <td>3.642295</td>\n",
              "      <td>3.997131</td>\n",
              "      <td>0.281456</td>\n",
              "      <td>54.441727</td>\n",
              "      <td>01:35</td>\n",
              "    </tr>\n",
              "    <tr>\n",
              "      <td>3</td>\n",
              "      <td>3.384662</td>\n",
              "      <td>3.960312</td>\n",
              "      <td>0.287065</td>\n",
              "      <td>52.473679</td>\n",
              "      <td>01:34</td>\n",
              "    </tr>\n",
              "    <tr>\n",
              "      <td>4</td>\n",
              "      <td>3.218423</td>\n",
              "      <td>3.955999</td>\n",
              "      <td>0.288654</td>\n",
              "      <td>52.247860</td>\n",
              "      <td>01:35</td>\n",
              "    </tr>\n",
              "  </tbody>\n",
              "</table>"
            ],
            "text/plain": [
              "<IPython.core.display.HTML object>"
            ]
          },
          "metadata": {
            "tags": []
          }
        }
      ]
    },
    {
      "cell_type": "markdown",
      "metadata": {
        "id": "Ye6UF-megABo"
      },
      "source": []
    },
    {
      "cell_type": "markdown",
      "metadata": {
        "id": "vhhVVln5f2Zs"
      },
      "source": [
        "Now that our model is in a stable state, we can further train our model by unfreeze all the layers."
      ]
    },
    {
      "cell_type": "code",
      "metadata": {
        "id": "gPLYSaxGaosM",
        "colab": {
          "base_uri": "https://localhost:8080/",
          "height": 355
        },
        "outputId": "cd11277c-4722-4404-f965-302274473ff5"
      },
      "source": [
        "# unfreezing weights and training the rest of the NN\n",
        "learn.unfreeze()\n",
        "learn.fit_one_cycle(10, 1e-3)"
      ],
      "execution_count": 52,
      "outputs": [
        {
          "output_type": "display_data",
          "data": {
            "text/html": [
              "<table border=\"1\" class=\"dataframe\">\n",
              "  <thead>\n",
              "    <tr style=\"text-align: left;\">\n",
              "      <th>epoch</th>\n",
              "      <th>train_loss</th>\n",
              "      <th>valid_loss</th>\n",
              "      <th>accuracy</th>\n",
              "      <th>perplexity</th>\n",
              "      <th>time</th>\n",
              "    </tr>\n",
              "  </thead>\n",
              "  <tbody>\n",
              "    <tr>\n",
              "      <td>0</td>\n",
              "      <td>3.113851</td>\n",
              "      <td>3.957171</td>\n",
              "      <td>0.296547</td>\n",
              "      <td>52.309143</td>\n",
              "      <td>01:44</td>\n",
              "    </tr>\n",
              "    <tr>\n",
              "      <td>1</td>\n",
              "      <td>3.016634</td>\n",
              "      <td>3.941424</td>\n",
              "      <td>0.303891</td>\n",
              "      <td>51.491856</td>\n",
              "      <td>01:44</td>\n",
              "    </tr>\n",
              "    <tr>\n",
              "      <td>2</td>\n",
              "      <td>2.935951</td>\n",
              "      <td>3.935807</td>\n",
              "      <td>0.310906</td>\n",
              "      <td>51.203430</td>\n",
              "      <td>01:44</td>\n",
              "    </tr>\n",
              "    <tr>\n",
              "      <td>3</td>\n",
              "      <td>2.686037</td>\n",
              "      <td>3.962655</td>\n",
              "      <td>0.314766</td>\n",
              "      <td>52.596790</td>\n",
              "      <td>01:44</td>\n",
              "    </tr>\n",
              "    <tr>\n",
              "      <td>4</td>\n",
              "      <td>2.590878</td>\n",
              "      <td>4.038105</td>\n",
              "      <td>0.316016</td>\n",
              "      <td>56.718731</td>\n",
              "      <td>01:44</td>\n",
              "    </tr>\n",
              "    <tr>\n",
              "      <td>5</td>\n",
              "      <td>2.367571</td>\n",
              "      <td>4.099312</td>\n",
              "      <td>0.313958</td>\n",
              "      <td>60.298805</td>\n",
              "      <td>01:44</td>\n",
              "    </tr>\n",
              "    <tr>\n",
              "      <td>6</td>\n",
              "      <td>2.153671</td>\n",
              "      <td>4.192963</td>\n",
              "      <td>0.314802</td>\n",
              "      <td>66.218681</td>\n",
              "      <td>01:45</td>\n",
              "    </tr>\n",
              "    <tr>\n",
              "      <td>7</td>\n",
              "      <td>1.940677</td>\n",
              "      <td>4.256079</td>\n",
              "      <td>0.314995</td>\n",
              "      <td>70.532898</td>\n",
              "      <td>01:44</td>\n",
              "    </tr>\n",
              "    <tr>\n",
              "      <td>8</td>\n",
              "      <td>1.820765</td>\n",
              "      <td>4.307884</td>\n",
              "      <td>0.313299</td>\n",
              "      <td>74.283157</td>\n",
              "      <td>01:44</td>\n",
              "    </tr>\n",
              "    <tr>\n",
              "      <td>9</td>\n",
              "      <td>1.839024</td>\n",
              "      <td>4.323715</td>\n",
              "      <td>0.312807</td>\n",
              "      <td>75.468491</td>\n",
              "      <td>01:43</td>\n",
              "    </tr>\n",
              "  </tbody>\n",
              "</table>"
            ],
            "text/plain": [
              "<IPython.core.display.HTML object>"
            ]
          },
          "metadata": {
            "tags": []
          }
        }
      ]
    },
    {
      "cell_type": "code",
      "metadata": {
        "id": "whf0Wpl9aosM",
        "colab": {
          "base_uri": "https://localhost:8080/",
          "height": 16
        },
        "outputId": "599d6d8e-866b-4751-f065-cc154fa135b6"
      },
      "source": [
        "TEXT = \"My country is Spain\"\n",
        "N_WORDS = 20\n",
        "N_SENTENCES = 2\n",
        "preds = [learn.predict(TEXT, N_WORDS, temperature=0.75) \n",
        "         for _ in range(N_SENTENCES)]"
      ],
      "execution_count": 53,
      "outputs": [
        {
          "output_type": "display_data",
          "data": {
            "text/html": [
              ""
            ],
            "text/plain": [
              "<IPython.core.display.HTML object>"
            ]
          },
          "metadata": {
            "tags": []
          }
        },
        {
          "output_type": "display_data",
          "data": {
            "text/html": [
              ""
            ],
            "text/plain": [
              "<IPython.core.display.HTML object>"
            ]
          },
          "metadata": {
            "tags": []
          }
        }
      ]
    },
    {
      "cell_type": "code",
      "metadata": {
        "id": "rg3n1TZraosM",
        "colab": {
          "base_uri": "https://localhost:8080/"
        },
        "outputId": "44d07812-0996-48bd-8454-b77ebd625bee"
      },
      "source": [
        "print(\"\\n\".join(preds))"
      ],
      "execution_count": 54,
      "outputs": [
        {
          "output_type": "stream",
          "text": [
            "My country is Spain , so our country has two : Latin , one Italian , Latin , and one \n",
            "\n",
            "My country is Spain , but i am a Catholic . i have a fourteen year old \n",
            " Catholic who was a\n"
          ],
          "name": "stdout"
        }
      ]
    },
    {
      "cell_type": "code",
      "metadata": {
        "id": "dHKga_SUaosM"
      },
      "source": [
        "learn.save_encoder('ft_enc_extended')"
      ],
      "execution_count": 55,
      "outputs": []
    },
    {
      "cell_type": "code",
      "metadata": {
        "id": "gGPQOBn2aosM",
        "colab": {
          "base_uri": "https://localhost:8080/",
          "height": 777
        },
        "outputId": "87384a83-07c5-48dc-f175-a63f49961d76"
      },
      "source": [
        "dls_class = DataBlock(\n",
        "    blocks=(\n",
        "        TextBlock.from_df('text', # We take the textual information from the column \"text\" in the dataset\n",
        "                          seq_len=40, # Maximum length\n",
        "                          vocab=dls_lm.vocab # We use the same vocabulary representation than the one used for the LM\n",
        "                          ), \n",
        "            CategoryBlock), # Because we will use these data for classification\n",
        "    get_x=ColReader('text'),\n",
        "    get_y=ColReader('target'),\n",
        "    splitter=RandomSplitter(0.2) # Randomly splits the dataset (20% for Validation, 80% for training)\n",
        ").dataloaders(training_df, bs=64)\n",
        "\n",
        "dls_class.show_batch(max_n=10)"
      ],
      "execution_count": 56,
      "outputs": [
        {
          "output_type": "display_data",
          "data": {
            "text/html": [
              ""
            ],
            "text/plain": [
              "<IPython.core.display.HTML object>"
            ]
          },
          "metadata": {
            "tags": []
          }
        },
        {
          "output_type": "stream",
          "text": [
            "/usr/local/lib/python3.7/dist-packages/numpy/core/_asarray.py:83: VisibleDeprecationWarning: Creating an ndarray from ragged nested sequences (which is a list-or-tuple of lists-or-tuples-or ndarrays with different lengths or shapes) is deprecated. If you meant to do this, you must specify 'dtype=object' when creating the ndarray\n",
            "  return array(a, dtype, copy=False, order=order)\n"
          ],
          "name": "stderr"
        },
        {
          "output_type": "display_data",
          "data": {
            "text/html": [
              "<table border=\"1\" class=\"dataframe\">\n",
              "  <thead>\n",
              "    <tr style=\"text-align: right;\">\n",
              "      <th></th>\n",
              "      <th>text</th>\n",
              "      <th>category</th>\n",
              "    </tr>\n",
              "  </thead>\n",
              "  <tbody>\n",
              "    <tr>\n",
              "      <th>0</th>\n",
              "      <td>xxbos xxmaj archive - name : hockey - faq \\n\\n rec.sport.hockey answers to xxmaj frequently xxmaj asked xxmaj questions and other news : \\n▁\\n xxmaj contents : \\n\\n 0 . xxmaj new xxmaj info . \\n 1 . xxup nhl \\n 2 . xxup nhl xxmaj minor xxmaj leagues \\n 3 . xxmaj college xxmaj hockey ( north xxmaj america ) \\n 4 . xxmaj other leagues ( e.g. xxmaj europe , xxmaj canada xxmaj cup tournament ) \\n 5 . xxmaj e - mail files \\n 6 . xxup usenet xxmaj hockey xxmaj pool \\n 7 . xxmaj up - coming xxmaj dates \\n 8 . xxmaj answers to some frequently asked questions \\n 9 . xxmaj miscellaneous \\n▁\\n▁ xxmaj send comments , suggestions and criticisms regarding this xxup faq list via xxunk \\n mail to hamlet@u.washington.edu . \\n▁\\n▁ xxrep 74 - \\n▁\\n▁ 0 . xxmaj new xxmaj info</td>\n",
              "      <td>sport</td>\n",
              "    </tr>\n",
              "    <tr>\n",
              "      <th>1</th>\n",
              "      <td>xxbos xxmaj the recent rise of nostalgia in this group , combined with the \\n▁ incredible level of utter bullshit , has prompted me to xxunk \\n▁ through my archives and pull out some of \" the xxmaj best of alt.atheism \" \\n▁ for your reading pleasure . xxmaj i 'll post a couple of these a day \\n▁ unless group xxunk demands that i stop , or i run out of good \\n▁ material . \\n\\n▁ i have n't been particularly careful in the past about saving \\n▁ attributions . i think the following comes from xxmaj john xxup a. xxmaj johnson , \\n▁ but someone correct me if xxmaj i 'm wrong . xxmaj this is probably the longest \\n▁ of my entire collection . \\n\\n▁ xxrep 56 _ \\n\\n\\n▁ xxmaj so that the \\n▁ xxmaj prophecy be \\n▁ xxmaj fulfilled \\n\\n▁ * * * \\n\\n▁ xxmaj in</td>\n",
              "      <td>religion</td>\n",
              "    </tr>\n",
              "    <tr>\n",
              "      <th>2</th>\n",
              "      <td>xxbos xxrep 13 - cut here xxrep 17 - \\n xxmaj volume 6 , xxmaj number 10 xxmaj april 20 , 1993 \\n\\n▁ + xxrep 48 - + \\n▁ ! ! \\n▁ ! xxmaj health info - com xxmaj network ! \\n▁ ! xxmaj medical xxmaj newsletter ! \\n▁ + xxrep 48 - + \\n▁ xxmaj editor : xxmaj david xxmaj dodell , xxup d.m.d . \\n▁ xxunk xxmaj north xxunk xxmaj street , xxmaj suite 210 , xxmaj scottsdale , xxmaj arizona xxunk - xxunk xxup usa \\n▁ xxmaj telephone +1 ( 602 ) 860 - 1121 \\n▁ xxup fax +1 ( 602 ) 451 - xxunk \\n\\n xxmaj compilation xxmaj copyright 1993 by xxmaj david xxmaj dodell , xxup d.m.d . xxmaj all rights xxmaj reserved . \\n xxmaj license is hereby granted to xxunk on electronic media for which no \\n fees are charged , so long</td>\n",
              "      <td>medicine</td>\n",
              "    </tr>\n",
              "    <tr>\n",
              "      <th>3</th>\n",
              "      <td>xxbos xxmaj archive - name : atheism / introduction \\n xxmaj alt - atheism - archive - name : introduction \\n xxmaj last - modified : 5 xxmaj april 1993 \\n xxmaj version : 1.2 \\n\\n▁ xxrep 5 - xxup begin xxup pgp xxup signed xxup message xxrep 5 - \\n\\n▁ xxmaj an xxmaj introduction to xxmaj atheism \\n▁ by mathew &lt; mathew@mantis.co.uk &gt; \\n\\n xxmaj this article attempts to provide a general introduction to atheism . xxmaj whilst i \\n have tried to be as neutral as possible regarding contentious issues , you \\n should always remember that this document represents only one viewpoint . i \\n would encourage you to read widely and draw your own conclusions ; some \\n relevant books are listed in a companion article . \\n\\n xxmaj to provide a sense of xxunk and progression , i have presented this article \\n as an</td>\n",
              "      <td>religion</td>\n",
              "    </tr>\n",
              "    <tr>\n",
              "      <th>4</th>\n",
              "      <td>xxbos xxmaj archive - name : atheism / faq \\n xxmaj alt - atheism - archive - name : faq \\n xxmaj last - modified : 5 xxmaj april 1993 \\n xxmaj version : 1.1 \\n\\n▁ alt.atheism frequently - asked xxmaj questions \\n\\n xxmaj this file contains responses to articles which occur repeatedly in \\n alt.atheism . xxmaj points covered here are ones which are not covered in the \\n \" introduction to xxmaj atheism \" ; you are advised to read that article as well \\n before posting . \\n\\n xxmaj these answers are not intended to be exhaustive or definitive . xxmaj the purpose of \\n the periodic xxup faq postings is not to xxunk debate , but to raise its level . xxmaj if \\n you have something to say concerning one of these questions and which is n't \\n covered by the answer given , please</td>\n",
              "      <td>religion</td>\n",
              "    </tr>\n",
              "    <tr>\n",
              "      <th>5</th>\n",
              "      <td>xxbos xxrep 13 - cut here xxrep 17 - \\n limits of azt 's efficacy and now suggest using the drug either xxunk \\n with other drugs or in a kind of xxup aids treatment \" xxunk \" combining a number \\n of drugs to fight the virus all at once . \" treating people with xxup azt alone \\n does n't happen in the real world anymore , \" said xxmaj dr . xxmaj mark xxmaj xxunk of the \\n xxmaj university of california -- san xxmaj francisco . xxmaj also , with recent findings \\n indicating that xxup hiv replicates rapidly in the lymph xxunk after infection , \\n physicians may begin pushing even harder for early treatment of hiv - infected \\n patients . \\n▁ xxrep 66 = \\n\\n \" new xxmaj infectious xxmaj disease xxmaj push \" xxmaj american xxmaj medical xxmaj news ( 04 /</td>\n",
              "      <td>medicine</td>\n",
              "    </tr>\n",
              "    <tr>\n",
              "      <th>6</th>\n",
              "      <td>xxbos xxmaj archive - name : rec - autos / xxunk \\n\\n [ this article is one of a pair of articles containing commonly \\n asked automotive questions ; the other article contains questions \\n more geared to the automotive enthusiast , and so is not crossposted \\n to misc.consumers . -- rpw ] \\n\\n▁ [ changes as of 14 xxmaj april 1993 : revised brake fluid section , as \\n▁ non - silicone xxup dot-5 fluids are now apparently available -- rpw ] \\n\\n▁ xxmaj commonly xxmaj asked xxmaj automotive xxmaj questions \\n\\n\\n xxmaj tire xxmaj questions : \\n\\n xxup q : xxmaj what do the funny numbers on the sides of my tires mean ? \\n\\n xxup a : xxmaj typically , you will see something like 195 / xxunk . the 195 is the \\n▁ overall width of the tire in xxunk , the tread is usually</td>\n",
              "      <td>automobile</td>\n",
              "    </tr>\n",
              "    <tr>\n",
              "      <th>7</th>\n",
              "      <td>xxbos xxmaj archive - name : atheism / logic \\n xxmaj alt - atheism - archive - name : logic \\n xxmaj last - modified : 5 xxmaj april 1993 \\n xxmaj version : 1.4 \\n\\n▁ xxmaj constructing a xxmaj logical xxmaj argument \\n\\n xxmaj although there is much argument on xxmaj usenet , the general quality of argument \\n found is poor . xxmaj this article attempts to provide a gentle introduction to \\n logic , in the hope of improving the general level of debate . \\n\\n xxmaj logic is the science of reasoning , proof , thinking , or inference [ concise \\n xxup xxunk ] . xxmaj logic allows us to analyze a piece of reasoning and determine whether \\n it is correct or not ( valid or invalid ) . xxmaj of course , one does not need to \\n study logic in order to</td>\n",
              "      <td>religion</td>\n",
              "    </tr>\n",
              "    <tr>\n",
              "      <th>8</th>\n",
              "      <td>xxbos xxrep 13 - cut here xxrep 17 - \\n xxmaj university of xxmaj arizona \\n xxmaj tucson , xxmaj arizona \\n\\n\\n\\n▁ xxmaj suggested xxmaj reading \\n\\n xxmaj tan xxup sl , xxmaj xxunk xxup p , xxmaj campbell xxup s , xxmaj jacobs xxup hs , xxmaj xxunk xxup j , xxmaj mason xxup b , xxmaj xxunk xxup rg ( 1992 ) . \\n xxmaj cumulative conception and xxmaj xxunk rates after in - vitro fertilization . xxmaj lancet \\n xxunk - xxunk . \\n\\n xxmaj for further information , call : \\n▁ xxmaj physicians ' xxmaj resource xxmaj line \\n▁ 1 - 800 - 328 - xxunk \\n▁ in xxmaj tucson : \\n▁ xxunk - xxunk xxunk hicnet xxmaj medical xxmaj newsletter xxmaj page 28 \\n xxmaj volume 6 , xxmaj number 10 xxmaj april 20 , 1993 \\n\\n\\n\\n▁ xxrep 78 : \\n▁ xxmaj articles \\n▁ xxrep</td>\n",
              "      <td>medicine</td>\n",
              "    </tr>\n",
              "    <tr>\n",
              "      <th>9</th>\n",
              "      <td>xxbos xxmaj here are the standings after the xxmaj april 6 update . xxmaj i 'll be leaving for xxmaj japan \\n in 1.5 hours , and i wo n't be back until xxmaj april 17 . xxmaj consequently , i will not \\n post the week 27 results until xxmaj april 18 . xxmaj email sent between xxmaj april 13 and \\n xxmaj april 18 will be processed using the numbers available xxmaj april 18 . \\n\\n\\t - xxmaj andrew \\n\\n xxup usenet xxmaj hockey xxmaj draft xxmaj standings \\n xxmaj week 26 \\n\\n xxmaj posn \\t xxmaj team \\t\\t\\t\\t xxmaj pts \\t xxmaj xxunk \\t xxmaj cash \\t xxmaj last xxmaj posn \\n\\n 1 . \\t xxmaj dave xxmaj wessels xxunk \\t xxunk \\t 1.9 \\t ( 1 ) \\n 2 . \\t xxmaj gilles xxmaj carmel xxunk \\t xxunk \\t 56.3 \\t ( 5 ) \\n 3</td>\n",
              "      <td>sport</td>\n",
              "    </tr>\n",
              "  </tbody>\n",
              "</table>"
            ],
            "text/plain": [
              "<IPython.core.display.HTML object>"
            ]
          },
          "metadata": {
            "tags": []
          }
        }
      ]
    },
    {
      "cell_type": "markdown",
      "metadata": {
        "id": "8C039t_7noDa"
      },
      "source": [
        "Create the classifier taking our fine-tuned encoder."
      ]
    },
    {
      "cell_type": "code",
      "metadata": {
        "id": "153fCQjlaosN"
      },
      "source": [
        "#needed to include average='weighted' for being a multiclass classifier.\n",
        "learn = text_classifier_learner(dls_class, AWD_LSTM, drop_mult=0.8, metrics=[accuracy,FBeta(beta=1,average='weighted')]).to_fp16()\n",
        "learn.load_encoder('ft_enc_extended')\n",
        "learn.freeze()"
      ],
      "execution_count": 68,
      "outputs": []
    },
    {
      "cell_type": "code",
      "metadata": {
        "id": "X4Phz4hJaosN",
        "colab": {
          "base_uri": "https://localhost:8080/",
          "height": 301
        },
        "outputId": "b673202f-d658-4138-d606-f083369b921f"
      },
      "source": [
        "learn.lr_find()"
      ],
      "execution_count": 69,
      "outputs": [
        {
          "output_type": "display_data",
          "data": {
            "text/html": [
              ""
            ],
            "text/plain": [
              "<IPython.core.display.HTML object>"
            ]
          },
          "metadata": {
            "tags": []
          }
        },
        {
          "output_type": "execute_result",
          "data": {
            "text/plain": [
              "SuggestedLRs(lr_min=0.06309573650360108, lr_steep=0.007585775572806597)"
            ]
          },
          "metadata": {
            "tags": []
          },
          "execution_count": 69
        },
        {
          "output_type": "display_data",
          "data": {
            "image/png": "[encoded data removed]",
            "text/plain": [
              "<Figure size 432x288 with 1 Axes>"
            ]
          },
          "metadata": {
            "tags": [],
            "needs_background": "light"
          }
        }
      ]
    },
    {
      "cell_type": "code",
      "metadata": {
        "id": "C8CJQaLYaosN",
        "colab": {
          "base_uri": "https://localhost:8080/",
          "height": 78
        },
        "outputId": "64ea74e1-bfdf-44bb-bcb9-0be46382fdf5"
      },
      "source": [
        "learn.fit_one_cycle(1, 1e-2)"
      ],
      "execution_count": 70,
      "outputs": [
        {
          "output_type": "display_data",
          "data": {
            "text/html": [
              "<table border=\"1\" class=\"dataframe\">\n",
              "  <thead>\n",
              "    <tr style=\"text-align: left;\">\n",
              "      <th>epoch</th>\n",
              "      <th>train_loss</th>\n",
              "      <th>valid_loss</th>\n",
              "      <th>accuracy</th>\n",
              "      <th>fbeta_score</th>\n",
              "      <th>time</th>\n",
              "    </tr>\n",
              "  </thead>\n",
              "  <tbody>\n",
              "    <tr>\n",
              "      <td>0</td>\n",
              "      <td>0.611168</td>\n",
              "      <td>0.301256</td>\n",
              "      <td>0.909302</td>\n",
              "      <td>0.909372</td>\n",
              "      <td>00:14</td>\n",
              "    </tr>\n",
              "  </tbody>\n",
              "</table>"
            ],
            "text/plain": [
              "<IPython.core.display.HTML object>"
            ]
          },
          "metadata": {
            "tags": []
          }
        }
      ]
    },
    {
      "cell_type": "code",
      "metadata": {
        "id": "IoaNTQeqaosN",
        "colab": {
          "base_uri": "https://localhost:8080/"
        },
        "outputId": "4a53f43b-afae-4d2c-d66b-9bec01c8c0ab"
      },
      "source": [
        "learn.save('lstm_1')"
      ],
      "execution_count": 71,
      "outputs": [
        {
          "output_type": "execute_result",
          "data": {
            "text/plain": [
              "Path('models/lstm_1.pth')"
            ]
          },
          "metadata": {
            "tags": []
          },
          "execution_count": 71
        }
      ]
    },
    {
      "cell_type": "markdown",
      "metadata": {
        "id": "H_H1XujAyIN2"
      },
      "source": [
        "Now it is time to gradually unfreeze the rest of the model and train it together in different steps."
      ]
    },
    {
      "cell_type": "code",
      "metadata": {
        "id": "WTCm4CowaosN",
        "colab": {
          "base_uri": "https://localhost:8080/",
          "height": 78
        },
        "outputId": "c24668ce-3d62-4272-a676-ff1299ec6605"
      },
      "source": [
        "learn.freeze_to(-2)\n",
        "learn.fit_one_cycle(1, slice(1e-2/(2.6**4),1e-2))"
      ],
      "execution_count": 72,
      "outputs": [
        {
          "output_type": "display_data",
          "data": {
            "text/html": [
              "<table border=\"1\" class=\"dataframe\">\n",
              "  <thead>\n",
              "    <tr style=\"text-align: left;\">\n",
              "      <th>epoch</th>\n",
              "      <th>train_loss</th>\n",
              "      <th>valid_loss</th>\n",
              "      <th>accuracy</th>\n",
              "      <th>fbeta_score</th>\n",
              "      <th>time</th>\n",
              "    </tr>\n",
              "  </thead>\n",
              "  <tbody>\n",
              "    <tr>\n",
              "      <td>0</td>\n",
              "      <td>0.465131</td>\n",
              "      <td>0.271109</td>\n",
              "      <td>0.902326</td>\n",
              "      <td>0.902815</td>\n",
              "      <td>00:14</td>\n",
              "    </tr>\n",
              "  </tbody>\n",
              "</table>"
            ],
            "text/plain": [
              "<IPython.core.display.HTML object>"
            ]
          },
          "metadata": {
            "tags": []
          }
        }
      ]
    },
    {
      "cell_type": "code",
      "metadata": {
        "id": "4n7HnfxfaosN",
        "colab": {
          "base_uri": "https://localhost:8080/"
        },
        "outputId": "349845ba-4661-4ecb-e567-9f355c4eaaf9"
      },
      "source": [
        "learn.save('lstm_2')"
      ],
      "execution_count": 74,
      "outputs": [
        {
          "output_type": "execute_result",
          "data": {
            "text/plain": [
              "Path('models/lstm_2.pth')"
            ]
          },
          "metadata": {
            "tags": []
          },
          "execution_count": 74
        }
      ]
    },
    {
      "cell_type": "code",
      "metadata": {
        "id": "3tQAEGt_aosN",
        "colab": {
          "base_uri": "https://localhost:8080/",
          "height": 78
        },
        "outputId": "d6e3fa22-0276-4fc3-92c4-a78a5f343358"
      },
      "source": [
        "learn.freeze_to(-3)\n",
        "learn.fit_one_cycle(1, slice(1e-2/2/(2.6**4),1e-2/2))"
      ],
      "execution_count": 75,
      "outputs": [
        {
          "output_type": "display_data",
          "data": {
            "text/html": [
              "<table border=\"1\" class=\"dataframe\">\n",
              "  <thead>\n",
              "    <tr style=\"text-align: left;\">\n",
              "      <th>epoch</th>\n",
              "      <th>train_loss</th>\n",
              "      <th>valid_loss</th>\n",
              "      <th>accuracy</th>\n",
              "      <th>fbeta_score</th>\n",
              "      <th>time</th>\n",
              "    </tr>\n",
              "  </thead>\n",
              "  <tbody>\n",
              "    <tr>\n",
              "      <td>0</td>\n",
              "      <td>0.384734</td>\n",
              "      <td>0.251077</td>\n",
              "      <td>0.916279</td>\n",
              "      <td>0.916335</td>\n",
              "      <td>00:17</td>\n",
              "    </tr>\n",
              "  </tbody>\n",
              "</table>"
            ],
            "text/plain": [
              "<IPython.core.display.HTML object>"
            ]
          },
          "metadata": {
            "tags": []
          }
        }
      ]
    },
    {
      "cell_type": "code",
      "metadata": {
        "id": "Qg5HqRsJaosO",
        "colab": {
          "base_uri": "https://localhost:8080/"
        },
        "outputId": "93ae0c63-62b5-4cb4-c62f-c7ab5601d146"
      },
      "source": [
        "learn.save('lstm_3')"
      ],
      "execution_count": 76,
      "outputs": [
        {
          "output_type": "execute_result",
          "data": {
            "text/plain": [
              "Path('models/lstm_3.pth')"
            ]
          },
          "metadata": {
            "tags": []
          },
          "execution_count": 76
        }
      ]
    },
    {
      "cell_type": "code",
      "metadata": {
        "id": "D6bBBtfEaosO",
        "colab": {
          "base_uri": "https://localhost:8080/",
          "height": 662
        },
        "outputId": "0705d9f6-4a54-4fcb-f72a-181aa89c3c33"
      },
      "source": [
        "learn.unfreeze()\n",
        "learn.fit_one_cycle(20, slice(1e-2/10/(2.6**4),1e-2/10))"
      ],
      "execution_count": 77,
      "outputs": [
        {
          "output_type": "display_data",
          "data": {
            "text/html": [
              "<table border=\"1\" class=\"dataframe\">\n",
              "  <thead>\n",
              "    <tr style=\"text-align: left;\">\n",
              "      <th>epoch</th>\n",
              "      <th>train_loss</th>\n",
              "      <th>valid_loss</th>\n",
              "      <th>accuracy</th>\n",
              "      <th>fbeta_score</th>\n",
              "      <th>time</th>\n",
              "    </tr>\n",
              "  </thead>\n",
              "  <tbody>\n",
              "    <tr>\n",
              "      <td>0</td>\n",
              "      <td>0.335264</td>\n",
              "      <td>0.245157</td>\n",
              "      <td>0.916279</td>\n",
              "      <td>0.916371</td>\n",
              "      <td>00:19</td>\n",
              "    </tr>\n",
              "    <tr>\n",
              "      <td>1</td>\n",
              "      <td>0.349393</td>\n",
              "      <td>0.236634</td>\n",
              "      <td>0.923256</td>\n",
              "      <td>0.923378</td>\n",
              "      <td>00:20</td>\n",
              "    </tr>\n",
              "    <tr>\n",
              "      <td>2</td>\n",
              "      <td>0.343388</td>\n",
              "      <td>0.239180</td>\n",
              "      <td>0.920930</td>\n",
              "      <td>0.921232</td>\n",
              "      <td>00:19</td>\n",
              "    </tr>\n",
              "    <tr>\n",
              "      <td>3</td>\n",
              "      <td>0.318837</td>\n",
              "      <td>0.231933</td>\n",
              "      <td>0.927907</td>\n",
              "      <td>0.928195</td>\n",
              "      <td>00:20</td>\n",
              "    </tr>\n",
              "    <tr>\n",
              "      <td>4</td>\n",
              "      <td>0.305226</td>\n",
              "      <td>0.222014</td>\n",
              "      <td>0.923256</td>\n",
              "      <td>0.923435</td>\n",
              "      <td>00:20</td>\n",
              "    </tr>\n",
              "    <tr>\n",
              "      <td>5</td>\n",
              "      <td>0.293036</td>\n",
              "      <td>0.215446</td>\n",
              "      <td>0.925581</td>\n",
              "      <td>0.925647</td>\n",
              "      <td>00:20</td>\n",
              "    </tr>\n",
              "    <tr>\n",
              "      <td>6</td>\n",
              "      <td>0.268773</td>\n",
              "      <td>0.213182</td>\n",
              "      <td>0.930233</td>\n",
              "      <td>0.930283</td>\n",
              "      <td>00:19</td>\n",
              "    </tr>\n",
              "    <tr>\n",
              "      <td>7</td>\n",
              "      <td>0.268122</td>\n",
              "      <td>0.217845</td>\n",
              "      <td>0.926744</td>\n",
              "      <td>0.926896</td>\n",
              "      <td>00:19</td>\n",
              "    </tr>\n",
              "    <tr>\n",
              "      <td>8</td>\n",
              "      <td>0.258949</td>\n",
              "      <td>0.211775</td>\n",
              "      <td>0.934884</td>\n",
              "      <td>0.934955</td>\n",
              "      <td>00:19</td>\n",
              "    </tr>\n",
              "    <tr>\n",
              "      <td>9</td>\n",
              "      <td>0.252698</td>\n",
              "      <td>0.212587</td>\n",
              "      <td>0.931395</td>\n",
              "      <td>0.931417</td>\n",
              "      <td>00:20</td>\n",
              "    </tr>\n",
              "    <tr>\n",
              "      <td>10</td>\n",
              "      <td>0.231652</td>\n",
              "      <td>0.207633</td>\n",
              "      <td>0.933721</td>\n",
              "      <td>0.933703</td>\n",
              "      <td>00:19</td>\n",
              "    </tr>\n",
              "    <tr>\n",
              "      <td>11</td>\n",
              "      <td>0.226285</td>\n",
              "      <td>0.206807</td>\n",
              "      <td>0.930233</td>\n",
              "      <td>0.930257</td>\n",
              "      <td>00:20</td>\n",
              "    </tr>\n",
              "    <tr>\n",
              "      <td>12</td>\n",
              "      <td>0.202488</td>\n",
              "      <td>0.207688</td>\n",
              "      <td>0.930233</td>\n",
              "      <td>0.930256</td>\n",
              "      <td>00:19</td>\n",
              "    </tr>\n",
              "    <tr>\n",
              "      <td>13</td>\n",
              "      <td>0.205221</td>\n",
              "      <td>0.207272</td>\n",
              "      <td>0.930233</td>\n",
              "      <td>0.930267</td>\n",
              "      <td>00:20</td>\n",
              "    </tr>\n",
              "    <tr>\n",
              "      <td>14</td>\n",
              "      <td>0.210340</td>\n",
              "      <td>0.208921</td>\n",
              "      <td>0.932558</td>\n",
              "      <td>0.932590</td>\n",
              "      <td>00:19</td>\n",
              "    </tr>\n",
              "    <tr>\n",
              "      <td>15</td>\n",
              "      <td>0.193825</td>\n",
              "      <td>0.211164</td>\n",
              "      <td>0.929070</td>\n",
              "      <td>0.929151</td>\n",
              "      <td>00:19</td>\n",
              "    </tr>\n",
              "    <tr>\n",
              "      <td>16</td>\n",
              "      <td>0.182606</td>\n",
              "      <td>0.205924</td>\n",
              "      <td>0.932558</td>\n",
              "      <td>0.932602</td>\n",
              "      <td>00:19</td>\n",
              "    </tr>\n",
              "    <tr>\n",
              "      <td>17</td>\n",
              "      <td>0.184520</td>\n",
              "      <td>0.206780</td>\n",
              "      <td>0.931395</td>\n",
              "      <td>0.931439</td>\n",
              "      <td>00:19</td>\n",
              "    </tr>\n",
              "    <tr>\n",
              "      <td>18</td>\n",
              "      <td>0.179136</td>\n",
              "      <td>0.202889</td>\n",
              "      <td>0.932558</td>\n",
              "      <td>0.932575</td>\n",
              "      <td>00:19</td>\n",
              "    </tr>\n",
              "    <tr>\n",
              "      <td>19</td>\n",
              "      <td>0.182997</td>\n",
              "      <td>0.205416</td>\n",
              "      <td>0.933721</td>\n",
              "      <td>0.933766</td>\n",
              "      <td>00:20</td>\n",
              "    </tr>\n",
              "  </tbody>\n",
              "</table>"
            ],
            "text/plain": [
              "<IPython.core.display.HTML object>"
            ]
          },
          "metadata": {
            "tags": []
          }
        }
      ]
    },
    {
      "cell_type": "code",
      "metadata": {
        "id": "spSi6a9TaosO",
        "colab": {
          "base_uri": "https://localhost:8080/"
        },
        "outputId": "fc5fd67b-10b1-4c66-9f51-a19b850a46d7"
      },
      "source": [
        "learn.save('lstm_4')"
      ],
      "execution_count": 78,
      "outputs": [
        {
          "output_type": "execute_result",
          "data": {
            "text/plain": [
              "Path('models/lstm_4.pth')"
            ]
          },
          "metadata": {
            "tags": []
          },
          "execution_count": 78
        }
      ]
    },
    {
      "cell_type": "code",
      "metadata": {
        "id": "atzdyESAaosO",
        "colab": {
          "base_uri": "https://localhost:8080/",
          "height": 202
        },
        "outputId": "144e9962-a3b8-455f-ccb3-6d08d86bc34a"
      },
      "source": [
        "# get predictions\n",
        "preds, targets = learn.get_preds()\n",
        "\n",
        "predictions = np.argmax(preds, axis = 1)\n",
        "pd.crosstab(predictions, targets)"
      ],
      "execution_count": 79,
      "outputs": [
        {
          "output_type": "display_data",
          "data": {
            "text/html": [
              ""
            ],
            "text/plain": [
              "<IPython.core.display.HTML object>"
            ]
          },
          "metadata": {
            "tags": []
          }
        },
        {
          "output_type": "execute_result",
          "data": {
            "text/html": [
              "<div>\n",
              "<style scoped>\n",
              "    .dataframe tbody tr th:only-of-type {\n",
              "        vertical-align: middle;\n",
              "    }\n",
              "\n",
              "    .dataframe tbody tr th {\n",
              "        vertical-align: top;\n",
              "    }\n",
              "\n",
              "    .dataframe thead th {\n",
              "        text-align: right;\n",
              "    }\n",
              "</style>\n",
              "<table border=\"1\" class=\"dataframe\">\n",
              "  <thead>\n",
              "    <tr style=\"text-align: right;\">\n",
              "      <th>col_0</th>\n",
              "      <th>0</th>\n",
              "      <th>1</th>\n",
              "      <th>2</th>\n",
              "      <th>3</th>\n",
              "    </tr>\n",
              "    <tr>\n",
              "      <th>row_0</th>\n",
              "      <th></th>\n",
              "      <th></th>\n",
              "      <th></th>\n",
              "      <th></th>\n",
              "    </tr>\n",
              "  </thead>\n",
              "  <tbody>\n",
              "    <tr>\n",
              "      <th>0</th>\n",
              "      <td>216</td>\n",
              "      <td>3</td>\n",
              "      <td>8</td>\n",
              "      <td>11</td>\n",
              "    </tr>\n",
              "    <tr>\n",
              "      <th>1</th>\n",
              "      <td>1</td>\n",
              "      <td>96</td>\n",
              "      <td>4</td>\n",
              "      <td>0</td>\n",
              "    </tr>\n",
              "    <tr>\n",
              "      <th>2</th>\n",
              "      <td>6</td>\n",
              "      <td>5</td>\n",
              "      <td>270</td>\n",
              "      <td>8</td>\n",
              "    </tr>\n",
              "    <tr>\n",
              "      <th>3</th>\n",
              "      <td>6</td>\n",
              "      <td>1</td>\n",
              "      <td>4</td>\n",
              "      <td>221</td>\n",
              "    </tr>\n",
              "  </tbody>\n",
              "</table>\n",
              "</div>"
            ],
            "text/plain": [
              "col_0    0   1    2    3\n",
              "row_0                   \n",
              "0      216   3    8   11\n",
              "1        1  96    4    0\n",
              "2        6   5  270    8\n",
              "3        6   1    4  221"
            ]
          },
          "metadata": {
            "tags": []
          },
          "execution_count": 79
        }
      ]
    },
    {
      "cell_type": "code",
      "metadata": {
        "id": "GemHyFnQaosO",
        "colab": {
          "base_uri": "https://localhost:8080/"
        },
        "outputId": "4a78171c-7478-411d-8d6e-04ab0e50032b"
      },
      "source": [
        "from sklearn.metrics import classification_report\n",
        "\n",
        "print(classification_report(targets, predictions))"
      ],
      "execution_count": 80,
      "outputs": [
        {
          "output_type": "stream",
          "text": [
            "              precision    recall  f1-score   support\n",
            "\n",
            "           0       0.91      0.94      0.93       229\n",
            "           1       0.95      0.91      0.93       105\n",
            "           2       0.93      0.94      0.94       286\n",
            "           3       0.95      0.92      0.94       240\n",
            "\n",
            "    accuracy                           0.93       860\n",
            "   macro avg       0.94      0.93      0.93       860\n",
            "weighted avg       0.93      0.93      0.93       860\n",
            "\n"
          ],
          "name": "stdout"
        }
      ]
    },
    {
      "cell_type": "markdown",
      "metadata": {
        "id": "kTj7_dbb0fdN"
      },
      "source": [
        "The model is better not only in terms of accuracy, but also in its performance for all the classes when compared to the non Deep Learning models"
      ]
    },
    {
      "cell_type": "markdown",
      "metadata": {
        "id": "fKBPuvrm0lvx"
      },
      "source": [
        "As expected, there are some classes for which the model performs better (they are easier to predict or we have more data for them). However, we get a reasonable performance for most of the classes"
      ]
    },
    {
      "cell_type": "code",
      "metadata": {
        "id": "pAX8OilzaosO",
        "colab": {
          "base_uri": "https://localhost:8080/"
        },
        "outputId": "37f62604-19c2-4b1c-b615-792cda8711d9"
      },
      "source": [
        "learn.save('final_lstm_model')"
      ],
      "execution_count": 81,
      "outputs": [
        {
          "output_type": "execute_result",
          "data": {
            "text/plain": [
              "Path('models/final_lstm_model.pth')"
            ]
          },
          "metadata": {
            "tags": []
          },
          "execution_count": 81
        }
      ]
    },
    {
      "cell_type": "markdown",
      "metadata": {
        "id": "Tm0oQhOgaosO"
      },
      "source": [
        "# Transformers"
      ]
    },
    {
      "cell_type": "code",
      "metadata": {
        "id": "sr_U5uFqaosP"
      },
      "source": [
        "# Try a distill transformer and other models."
      ],
      "execution_count": null,
      "outputs": []
    },
    {
      "cell_type": "code",
      "metadata": {
        "id": "wju0QutxaosP"
      },
      "source": [
        "import tensorflow as tf\n",
        "import ktrain\n",
        "from ktrain import text"
      ],
      "execution_count": 82,
      "outputs": []
    },
    {
      "cell_type": "code",
      "metadata": {
        "id": "sAaJnRVlaosP",
        "colab": {
          "base_uri": "https://localhost:8080/",
          "height": 583
        },
        "outputId": "c6adc46b-7ccb-47ae-de5f-21626dc29f6a"
      },
      "source": [
        "trn, val, preproc = text.texts_from_df(training_df,'text',preprocess_mode='bert',label_columns='target',verbose=True, maxlen=32) # Process the input based on the BERT encoder\n",
        "\n",
        "model = text.text_classifier('bert', trn, preproc=preproc) # Create a text classifier that uses the BERT-based representations created before\n",
        "\n",
        "learner = ktrain.get_learner(model, train_data=trn, val_data=val,  batch_size=128) # Creates the learning process to fine-tune bert and train the classifier."
      ],
      "execution_count": 83,
      "outputs": [
        {
          "output_type": "stream",
          "text": [
            "['automobile', 'medicine', 'religion', 'sport']\n",
            "       automobile  medicine  religion  sport\n",
            "5200          0.0       0.0       1.0    0.0\n",
            "2029          0.0       0.0       0.0    1.0\n",
            "10244         0.0       0.0       1.0    0.0\n",
            "4533          1.0       0.0       0.0    0.0\n",
            "2507          0.0       0.0       1.0    0.0\n",
            "['automobile', 'medicine', 'religion', 'sport']\n",
            "      automobile  medicine  religion  sport\n",
            "6683         0.0       0.0       0.0    1.0\n",
            "8009         1.0       0.0       0.0    0.0\n",
            "6326         0.0       0.0       0.0    1.0\n",
            "935          0.0       0.0       1.0    0.0\n",
            "8704         1.0       0.0       0.0    0.0\n",
            "downloading pretrained BERT model (uncased_L-12_H-768_A-12.zip)...\n",
            "[██████████████████████████████████████████████████]\n",
            "extracting pretrained BERT model...\n",
            "done.\n",
            "\n",
            "cleanup downloaded zip...\n",
            "done.\n",
            "\n",
            "preprocessing train...\n",
            "language: en\n"
          ],
          "name": "stdout"
        },
        {
          "output_type": "display_data",
          "data": {
            "text/html": [
              "done."
            ],
            "text/plain": [
              "<IPython.core.display.HTML object>"
            ]
          },
          "metadata": {
            "tags": []
          }
        },
        {
          "output_type": "stream",
          "text": [
            "Is Multi-Label? False\n",
            "preprocessing test...\n",
            "language: en\n"
          ],
          "name": "stdout"
        },
        {
          "output_type": "display_data",
          "data": {
            "text/html": [
              "done."
            ],
            "text/plain": [
              "<IPython.core.display.HTML object>"
            ]
          },
          "metadata": {
            "tags": []
          }
        },
        {
          "output_type": "stream",
          "text": [
            "Is Multi-Label? False\n",
            "maxlen is 32\n",
            "done.\n"
          ],
          "name": "stdout"
        }
      ]
    },
    {
      "cell_type": "code",
      "metadata": {
        "id": "Z_nIzSapaosP",
        "colab": {
          "base_uri": "https://localhost:8080/"
        },
        "outputId": "339d4113-cc46-4af5-b544-c53092929d9a"
      },
      "source": [
        "learner.lr_find(show_plot=True, max_epochs=2)"
      ],
      "execution_count": null,
      "outputs": [
        {
          "output_type": "stream",
          "text": [
            "simulating training for different learning rates... this may take a few moments...\n"
          ],
          "name": "stdout"
        },
        {
          "output_type": "stream",
          "text": [
            "/usr/local/lib/python3.7/dist-packages/tensorflow/python/keras/utils/generic_utils.py:497: CustomMaskWarning: Custom mask layers require a config and must override get_config. When loading, the custom mask layer must be passed to the custom_objects argument.\n",
            "  category=CustomMaskWarning)\n"
          ],
          "name": "stderr"
        },
        {
          "output_type": "stream",
          "text": [
            "Epoch 1/2\n",
            "23/31 [=====================>........] - ETA: 3:13 - loss: 2.1166 - accuracy: 0.1681"
          ],
          "name": "stdout"
        }
      ]
    },
    {
      "cell_type": "code",
      "metadata": {
        "id": "2NzzT6ZHaosP"
      },
      "source": [
        "learner.autofit(lr=1e-4, # Learning Rate \n",
        "                epochs=5, # Number of epochs to train the model\n",
        "                early_stopping=2, # If the model does not improve after 2 epochs, we stop the training\n",
        "                reduce_on_plateau=1,  # If the model does not improve aftear 1 epoch, we reduce the learning rate\n",
        "                monitor='val_loss', # Metric to monitor the peformance of the model (loss computed on the validation dataset)\n",
        "                checkpoint_folder='transformer_cpt_1' # After each epoch we store a checkpoint of the model\n",
        "                )"
      ],
      "execution_count": null,
      "outputs": []
    },
    {
      "cell_type": "code",
      "metadata": {
        "id": "tj0EIvrzaosP"
      },
      "source": [
        "learner.save_model('transformer_1') # Saving the trained model"
      ],
      "execution_count": null,
      "outputs": []
    },
    {
      "cell_type": "code",
      "metadata": {
        "id": "k9k4FvXOaosP"
      },
      "source": [
        "learner.unfreeze()\n",
        "learner.fit_onecycle(1e-4/10, 1, checkpoint_folder='transformer_cpt_2')"
      ],
      "execution_count": null,
      "outputs": []
    },
    {
      "cell_type": "code",
      "metadata": {
        "id": "ieHlO4EEaosQ"
      },
      "source": [
        "learner.save_model('transformer_2') # Store the final model"
      ],
      "execution_count": null,
      "outputs": []
    },
    {
      "cell_type": "code",
      "metadata": {
        "id": "hvLO4jBsaosQ"
      },
      "source": [
        "learner.validate(class_names=['religion', 'automobile', 'medicine','sport'] )"
      ],
      "execution_count": null,
      "outputs": []
    },
    {
      "cell_type": "code",
      "metadata": {
        "id": "9tLPdY--aosQ"
      },
      "source": [
        "learner.view_top_losses(n=10, preproc=preproc)"
      ],
      "execution_count": null,
      "outputs": []
    },
    {
      "cell_type": "code",
      "metadata": {
        "id": "BO04LN8kaosQ"
      },
      "source": [
        "#!pip3 install -q git+https://github.com/amaiya/eli5@tfkeras_0_10_1"
      ],
      "execution_count": null,
      "outputs": []
    },
    {
      "cell_type": "code",
      "metadata": {
        "id": "sw8VIpldaosQ"
      },
      "source": [
        "predictor = ktrain.get_predictor(learner.model, preproc)\n",
        "\n",
        "predictor.explain(\"[CLS] the government is concerned about the population explosion and the population is concerned about the government explosion . - joe moore [SEP]\")"
      ],
      "execution_count": null,
      "outputs": []
    }
  ]
}